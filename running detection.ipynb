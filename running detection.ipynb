{
 "cells": [
  {
   "cell_type": "code",
   "execution_count": 78,
   "id": "712f3fc4",
   "metadata": {},
   "outputs": [],
   "source": [
    "import pandas as pd\n",
    "import numpy as np\n",
    "import matplotlib.pyplot as plt\n",
    "from scipy import stats\n",
    "import tensorflow as tf\n",
    "import seaborn as sns\n",
    "from sklearn import metrics\n",
    "from sklearn.model_selection import train_test_split\n",
    "from sklearn.preprocessing import LabelEncoder\n",
    "from keras.utils import np_utils\n",
    "from sklearn import preprocessing\n",
    "%matplotlib inline\n",
    "from scipy.signal import butter, lfilter, freqz\n",
    "from sklearn.preprocessing import StandardScaler\n",
    "from sklearn.datasets import make_blobs\n",
    "from collections import Counter\n",
    "from imblearn.over_sampling import SMOTE\n",
    "from keras.models import Sequential\n",
    "from keras.layers import  Dense, LSTM, Dropout\n",
    "from keras.layers import Flatten\n",
    "from keras.regularizers import L1L2\n",
    "import keras_tuner as kt\n",
    "from keras import regularizers"
   ]
  },
  {
   "cell_type": "code",
   "execution_count": 79,
   "id": "9ec57596",
   "metadata": {},
   "outputs": [
    {
     "data": {
      "text/html": [
       "<div>\n",
       "<style scoped>\n",
       "    .dataframe tbody tr th:only-of-type {\n",
       "        vertical-align: middle;\n",
       "    }\n",
       "\n",
       "    .dataframe tbody tr th {\n",
       "        vertical-align: top;\n",
       "    }\n",
       "\n",
       "    .dataframe thead th {\n",
       "        text-align: right;\n",
       "    }\n",
       "</style>\n",
       "<table border=\"1\" class=\"dataframe\">\n",
       "  <thead>\n",
       "    <tr style=\"text-align: right;\">\n",
       "      <th></th>\n",
       "      <th>Acc_X</th>\n",
       "      <th>Acc_Y</th>\n",
       "      <th>Acc_Z</th>\n",
       "    </tr>\n",
       "  </thead>\n",
       "  <tbody>\n",
       "    <tr>\n",
       "      <th>0</th>\n",
       "      <td>-0.654270</td>\n",
       "      <td>-9.721546</td>\n",
       "      <td>1.457198</td>\n",
       "    </tr>\n",
       "    <tr>\n",
       "      <th>1</th>\n",
       "      <td>-0.654270</td>\n",
       "      <td>-9.819020</td>\n",
       "      <td>-0.250593</td>\n",
       "    </tr>\n",
       "    <tr>\n",
       "      <th>2</th>\n",
       "      <td>-0.654270</td>\n",
       "      <td>-10.098344</td>\n",
       "      <td>-1.174555</td>\n",
       "    </tr>\n",
       "    <tr>\n",
       "      <th>3</th>\n",
       "      <td>-0.654270</td>\n",
       "      <td>-8.955621</td>\n",
       "      <td>1.076085</td>\n",
       "    </tr>\n",
       "    <tr>\n",
       "      <th>4</th>\n",
       "      <td>-0.654270</td>\n",
       "      <td>-9.929553</td>\n",
       "      <td>-0.505975</td>\n",
       "    </tr>\n",
       "    <tr>\n",
       "      <th>...</th>\n",
       "      <td>...</td>\n",
       "      <td>...</td>\n",
       "      <td>...</td>\n",
       "    </tr>\n",
       "    <tr>\n",
       "      <th>1507</th>\n",
       "      <td>-3.471593</td>\n",
       "      <td>-10.618559</td>\n",
       "      <td>0.802468</td>\n",
       "    </tr>\n",
       "    <tr>\n",
       "      <th>1508</th>\n",
       "      <td>-2.438870</td>\n",
       "      <td>-9.334789</td>\n",
       "      <td>1.514777</td>\n",
       "    </tr>\n",
       "    <tr>\n",
       "      <th>1509</th>\n",
       "      <td>-1.129311</td>\n",
       "      <td>-9.840170</td>\n",
       "      <td>1.750093</td>\n",
       "    </tr>\n",
       "    <tr>\n",
       "      <th>1510</th>\n",
       "      <td>-1.047292</td>\n",
       "      <td>-9.827171</td>\n",
       "      <td>2.336194</td>\n",
       "    </tr>\n",
       "    <tr>\n",
       "      <th>1511</th>\n",
       "      <td>0.611206</td>\n",
       "      <td>-1.003375</td>\n",
       "      <td>8.672960</td>\n",
       "    </tr>\n",
       "  </tbody>\n",
       "</table>\n",
       "<p>1512 rows × 3 columns</p>\n",
       "</div>"
      ],
      "text/plain": [
       "         Acc_X      Acc_Y     Acc_Z\n",
       "0    -0.654270  -9.721546  1.457198\n",
       "1    -0.654270  -9.819020 -0.250593\n",
       "2    -0.654270 -10.098344 -1.174555\n",
       "3    -0.654270  -8.955621  1.076085\n",
       "4    -0.654270  -9.929553 -0.505975\n",
       "...        ...        ...       ...\n",
       "1507 -3.471593 -10.618559  0.802468\n",
       "1508 -2.438870  -9.334789  1.514777\n",
       "1509 -1.129311  -9.840170  1.750093\n",
       "1510 -1.047292  -9.827171  2.336194\n",
       "1511  0.611206  -1.003375  8.672960\n",
       "\n",
       "[1512 rows x 3 columns]"
      ]
     },
     "execution_count": 79,
     "metadata": {},
     "output_type": "execute_result"
    }
   ],
   "source": [
    "df = pd.read_csv(\"running.csv\")\n",
    "df"
   ]
  },
  {
   "cell_type": "code",
   "execution_count": 80,
   "id": "3d006847",
   "metadata": {},
   "outputs": [
    {
     "data": {
      "text/plain": [
       "(1512, 3)"
      ]
     },
     "execution_count": 80,
     "metadata": {},
     "output_type": "execute_result"
    }
   ],
   "source": [
    "df.shape"
   ]
  },
  {
   "cell_type": "code",
   "execution_count": 81,
   "id": "9076b5f1",
   "metadata": {},
   "outputs": [],
   "source": [
    "X = df"
   ]
  },
  {
   "cell_type": "code",
   "execution_count": 82,
   "id": "d5df59f2",
   "metadata": {},
   "outputs": [
    {
     "name": "stdout",
     "output_type": "stream",
     "text": [
      "DF HEAD:  <bound method NDFrame.head of          Acc_X      Acc_Y     Acc_Z\n",
      "0    -0.654270  -9.721546  1.457198\n",
      "1    -0.654270  -9.819020 -0.250593\n",
      "2    -0.654270 -10.098344 -1.174555\n",
      "3    -0.654270  -8.955621  1.076085\n",
      "4    -0.654270  -9.929553 -0.505975\n",
      "...        ...        ...       ...\n",
      "1507 -3.471593 -10.618559  0.802468\n",
      "1508 -2.438870  -9.334789  1.514777\n",
      "1509 -1.129311  -9.840170  1.750093\n",
      "1510 -1.047292  -9.827171  2.336194\n",
      "1511  0.611206  -1.003375  8.672960\n",
      "\n",
      "[1512 rows x 3 columns]>\n",
      "DF DTYPE:  Acc_X    float64\n",
      "Acc_Y    float64\n",
      "Acc_Z    float64\n",
      "dtype: object\n",
      "DF SHAPE:  (1512, 3)\n",
      "DF ISNULL:  Acc_X    0\n",
      "Acc_Y    0\n",
      "Acc_Z    0\n",
      "dtype: int64\n"
     ]
    }
   ],
   "source": [
    "print(\"DF HEAD: \",df.head)\n",
    "print(\"DF DTYPE: \",df.dtypes)\n",
    "print(\"DF SHAPE: \",df.shape)\n",
    "\n",
    "print(\"DF ISNULL: \",df.isnull().sum())"
   ]
  },
  {
   "cell_type": "code",
   "execution_count": 83,
   "id": "fadad79f",
   "metadata": {},
   "outputs": [
    {
     "data": {
      "application/vnd.plotly.v1+json": {
       "config": {
        "plotlyServerURL": "https://plot.ly"
       },
       "data": [
        {
         "alignmentgroup": "True",
         "hovertemplate": "variable=0<br>index=%{x}<br>value=%{y}<extra></extra>",
         "legendgroup": "0",
         "marker": {
          "color": "#636efa",
          "pattern": {
           "shape": ""
          }
         },
         "name": "0",
         "offsetgroup": "0",
         "orientation": "v",
         "showlegend": true,
         "textposition": "auto",
         "type": "bar",
         "x": [
          "Acc_X",
          "Acc_Y",
          "Acc_Z"
         ],
         "xaxis": "x",
         "y": [
          0,
          0,
          0
         ],
         "yaxis": "y"
        }
       ],
       "layout": {
        "barmode": "relative",
        "legend": {
         "title": {
          "text": "variable"
         },
         "tracegroupgap": 0
        },
        "template": {
         "data": {
          "bar": [
           {
            "error_x": {
             "color": "#2a3f5f"
            },
            "error_y": {
             "color": "#2a3f5f"
            },
            "marker": {
             "line": {
              "color": "#E5ECF6",
              "width": 0.5
             },
             "pattern": {
              "fillmode": "overlay",
              "size": 10,
              "solidity": 0.2
             }
            },
            "type": "bar"
           }
          ],
          "barpolar": [
           {
            "marker": {
             "line": {
              "color": "#E5ECF6",
              "width": 0.5
             },
             "pattern": {
              "fillmode": "overlay",
              "size": 10,
              "solidity": 0.2
             }
            },
            "type": "barpolar"
           }
          ],
          "carpet": [
           {
            "aaxis": {
             "endlinecolor": "#2a3f5f",
             "gridcolor": "white",
             "linecolor": "white",
             "minorgridcolor": "white",
             "startlinecolor": "#2a3f5f"
            },
            "baxis": {
             "endlinecolor": "#2a3f5f",
             "gridcolor": "white",
             "linecolor": "white",
             "minorgridcolor": "white",
             "startlinecolor": "#2a3f5f"
            },
            "type": "carpet"
           }
          ],
          "choropleth": [
           {
            "colorbar": {
             "outlinewidth": 0,
             "ticks": ""
            },
            "type": "choropleth"
           }
          ],
          "contour": [
           {
            "colorbar": {
             "outlinewidth": 0,
             "ticks": ""
            },
            "colorscale": [
             [
              0,
              "#0d0887"
             ],
             [
              0.1111111111111111,
              "#46039f"
             ],
             [
              0.2222222222222222,
              "#7201a8"
             ],
             [
              0.3333333333333333,
              "#9c179e"
             ],
             [
              0.4444444444444444,
              "#bd3786"
             ],
             [
              0.5555555555555556,
              "#d8576b"
             ],
             [
              0.6666666666666666,
              "#ed7953"
             ],
             [
              0.7777777777777778,
              "#fb9f3a"
             ],
             [
              0.8888888888888888,
              "#fdca26"
             ],
             [
              1,
              "#f0f921"
             ]
            ],
            "type": "contour"
           }
          ],
          "contourcarpet": [
           {
            "colorbar": {
             "outlinewidth": 0,
             "ticks": ""
            },
            "type": "contourcarpet"
           }
          ],
          "heatmap": [
           {
            "colorbar": {
             "outlinewidth": 0,
             "ticks": ""
            },
            "colorscale": [
             [
              0,
              "#0d0887"
             ],
             [
              0.1111111111111111,
              "#46039f"
             ],
             [
              0.2222222222222222,
              "#7201a8"
             ],
             [
              0.3333333333333333,
              "#9c179e"
             ],
             [
              0.4444444444444444,
              "#bd3786"
             ],
             [
              0.5555555555555556,
              "#d8576b"
             ],
             [
              0.6666666666666666,
              "#ed7953"
             ],
             [
              0.7777777777777778,
              "#fb9f3a"
             ],
             [
              0.8888888888888888,
              "#fdca26"
             ],
             [
              1,
              "#f0f921"
             ]
            ],
            "type": "heatmap"
           }
          ],
          "heatmapgl": [
           {
            "colorbar": {
             "outlinewidth": 0,
             "ticks": ""
            },
            "colorscale": [
             [
              0,
              "#0d0887"
             ],
             [
              0.1111111111111111,
              "#46039f"
             ],
             [
              0.2222222222222222,
              "#7201a8"
             ],
             [
              0.3333333333333333,
              "#9c179e"
             ],
             [
              0.4444444444444444,
              "#bd3786"
             ],
             [
              0.5555555555555556,
              "#d8576b"
             ],
             [
              0.6666666666666666,
              "#ed7953"
             ],
             [
              0.7777777777777778,
              "#fb9f3a"
             ],
             [
              0.8888888888888888,
              "#fdca26"
             ],
             [
              1,
              "#f0f921"
             ]
            ],
            "type": "heatmapgl"
           }
          ],
          "histogram": [
           {
            "marker": {
             "pattern": {
              "fillmode": "overlay",
              "size": 10,
              "solidity": 0.2
             }
            },
            "type": "histogram"
           }
          ],
          "histogram2d": [
           {
            "colorbar": {
             "outlinewidth": 0,
             "ticks": ""
            },
            "colorscale": [
             [
              0,
              "#0d0887"
             ],
             [
              0.1111111111111111,
              "#46039f"
             ],
             [
              0.2222222222222222,
              "#7201a8"
             ],
             [
              0.3333333333333333,
              "#9c179e"
             ],
             [
              0.4444444444444444,
              "#bd3786"
             ],
             [
              0.5555555555555556,
              "#d8576b"
             ],
             [
              0.6666666666666666,
              "#ed7953"
             ],
             [
              0.7777777777777778,
              "#fb9f3a"
             ],
             [
              0.8888888888888888,
              "#fdca26"
             ],
             [
              1,
              "#f0f921"
             ]
            ],
            "type": "histogram2d"
           }
          ],
          "histogram2dcontour": [
           {
            "colorbar": {
             "outlinewidth": 0,
             "ticks": ""
            },
            "colorscale": [
             [
              0,
              "#0d0887"
             ],
             [
              0.1111111111111111,
              "#46039f"
             ],
             [
              0.2222222222222222,
              "#7201a8"
             ],
             [
              0.3333333333333333,
              "#9c179e"
             ],
             [
              0.4444444444444444,
              "#bd3786"
             ],
             [
              0.5555555555555556,
              "#d8576b"
             ],
             [
              0.6666666666666666,
              "#ed7953"
             ],
             [
              0.7777777777777778,
              "#fb9f3a"
             ],
             [
              0.8888888888888888,
              "#fdca26"
             ],
             [
              1,
              "#f0f921"
             ]
            ],
            "type": "histogram2dcontour"
           }
          ],
          "mesh3d": [
           {
            "colorbar": {
             "outlinewidth": 0,
             "ticks": ""
            },
            "type": "mesh3d"
           }
          ],
          "parcoords": [
           {
            "line": {
             "colorbar": {
              "outlinewidth": 0,
              "ticks": ""
             }
            },
            "type": "parcoords"
           }
          ],
          "pie": [
           {
            "automargin": true,
            "type": "pie"
           }
          ],
          "scatter": [
           {
            "fillpattern": {
             "fillmode": "overlay",
             "size": 10,
             "solidity": 0.2
            },
            "type": "scatter"
           }
          ],
          "scatter3d": [
           {
            "line": {
             "colorbar": {
              "outlinewidth": 0,
              "ticks": ""
             }
            },
            "marker": {
             "colorbar": {
              "outlinewidth": 0,
              "ticks": ""
             }
            },
            "type": "scatter3d"
           }
          ],
          "scattercarpet": [
           {
            "marker": {
             "colorbar": {
              "outlinewidth": 0,
              "ticks": ""
             }
            },
            "type": "scattercarpet"
           }
          ],
          "scattergeo": [
           {
            "marker": {
             "colorbar": {
              "outlinewidth": 0,
              "ticks": ""
             }
            },
            "type": "scattergeo"
           }
          ],
          "scattergl": [
           {
            "marker": {
             "colorbar": {
              "outlinewidth": 0,
              "ticks": ""
             }
            },
            "type": "scattergl"
           }
          ],
          "scattermapbox": [
           {
            "marker": {
             "colorbar": {
              "outlinewidth": 0,
              "ticks": ""
             }
            },
            "type": "scattermapbox"
           }
          ],
          "scatterpolar": [
           {
            "marker": {
             "colorbar": {
              "outlinewidth": 0,
              "ticks": ""
             }
            },
            "type": "scatterpolar"
           }
          ],
          "scatterpolargl": [
           {
            "marker": {
             "colorbar": {
              "outlinewidth": 0,
              "ticks": ""
             }
            },
            "type": "scatterpolargl"
           }
          ],
          "scatterternary": [
           {
            "marker": {
             "colorbar": {
              "outlinewidth": 0,
              "ticks": ""
             }
            },
            "type": "scatterternary"
           }
          ],
          "surface": [
           {
            "colorbar": {
             "outlinewidth": 0,
             "ticks": ""
            },
            "colorscale": [
             [
              0,
              "#0d0887"
             ],
             [
              0.1111111111111111,
              "#46039f"
             ],
             [
              0.2222222222222222,
              "#7201a8"
             ],
             [
              0.3333333333333333,
              "#9c179e"
             ],
             [
              0.4444444444444444,
              "#bd3786"
             ],
             [
              0.5555555555555556,
              "#d8576b"
             ],
             [
              0.6666666666666666,
              "#ed7953"
             ],
             [
              0.7777777777777778,
              "#fb9f3a"
             ],
             [
              0.8888888888888888,
              "#fdca26"
             ],
             [
              1,
              "#f0f921"
             ]
            ],
            "type": "surface"
           }
          ],
          "table": [
           {
            "cells": {
             "fill": {
              "color": "#EBF0F8"
             },
             "line": {
              "color": "white"
             }
            },
            "header": {
             "fill": {
              "color": "#C8D4E3"
             },
             "line": {
              "color": "white"
             }
            },
            "type": "table"
           }
          ]
         },
         "layout": {
          "annotationdefaults": {
           "arrowcolor": "#2a3f5f",
           "arrowhead": 0,
           "arrowwidth": 1
          },
          "autotypenumbers": "strict",
          "coloraxis": {
           "colorbar": {
            "outlinewidth": 0,
            "ticks": ""
           }
          },
          "colorscale": {
           "diverging": [
            [
             0,
             "#8e0152"
            ],
            [
             0.1,
             "#c51b7d"
            ],
            [
             0.2,
             "#de77ae"
            ],
            [
             0.3,
             "#f1b6da"
            ],
            [
             0.4,
             "#fde0ef"
            ],
            [
             0.5,
             "#f7f7f7"
            ],
            [
             0.6,
             "#e6f5d0"
            ],
            [
             0.7,
             "#b8e186"
            ],
            [
             0.8,
             "#7fbc41"
            ],
            [
             0.9,
             "#4d9221"
            ],
            [
             1,
             "#276419"
            ]
           ],
           "sequential": [
            [
             0,
             "#0d0887"
            ],
            [
             0.1111111111111111,
             "#46039f"
            ],
            [
             0.2222222222222222,
             "#7201a8"
            ],
            [
             0.3333333333333333,
             "#9c179e"
            ],
            [
             0.4444444444444444,
             "#bd3786"
            ],
            [
             0.5555555555555556,
             "#d8576b"
            ],
            [
             0.6666666666666666,
             "#ed7953"
            ],
            [
             0.7777777777777778,
             "#fb9f3a"
            ],
            [
             0.8888888888888888,
             "#fdca26"
            ],
            [
             1,
             "#f0f921"
            ]
           ],
           "sequentialminus": [
            [
             0,
             "#0d0887"
            ],
            [
             0.1111111111111111,
             "#46039f"
            ],
            [
             0.2222222222222222,
             "#7201a8"
            ],
            [
             0.3333333333333333,
             "#9c179e"
            ],
            [
             0.4444444444444444,
             "#bd3786"
            ],
            [
             0.5555555555555556,
             "#d8576b"
            ],
            [
             0.6666666666666666,
             "#ed7953"
            ],
            [
             0.7777777777777778,
             "#fb9f3a"
            ],
            [
             0.8888888888888888,
             "#fdca26"
            ],
            [
             1,
             "#f0f921"
            ]
           ]
          },
          "colorway": [
           "#636efa",
           "#EF553B",
           "#00cc96",
           "#ab63fa",
           "#FFA15A",
           "#19d3f3",
           "#FF6692",
           "#B6E880",
           "#FF97FF",
           "#FECB52"
          ],
          "font": {
           "color": "#2a3f5f"
          },
          "geo": {
           "bgcolor": "white",
           "lakecolor": "white",
           "landcolor": "#E5ECF6",
           "showlakes": true,
           "showland": true,
           "subunitcolor": "white"
          },
          "hoverlabel": {
           "align": "left"
          },
          "hovermode": "closest",
          "mapbox": {
           "style": "light"
          },
          "paper_bgcolor": "white",
          "plot_bgcolor": "#E5ECF6",
          "polar": {
           "angularaxis": {
            "gridcolor": "white",
            "linecolor": "white",
            "ticks": ""
           },
           "bgcolor": "#E5ECF6",
           "radialaxis": {
            "gridcolor": "white",
            "linecolor": "white",
            "ticks": ""
           }
          },
          "scene": {
           "xaxis": {
            "backgroundcolor": "#E5ECF6",
            "gridcolor": "white",
            "gridwidth": 2,
            "linecolor": "white",
            "showbackground": true,
            "ticks": "",
            "zerolinecolor": "white"
           },
           "yaxis": {
            "backgroundcolor": "#E5ECF6",
            "gridcolor": "white",
            "gridwidth": 2,
            "linecolor": "white",
            "showbackground": true,
            "ticks": "",
            "zerolinecolor": "white"
           },
           "zaxis": {
            "backgroundcolor": "#E5ECF6",
            "gridcolor": "white",
            "gridwidth": 2,
            "linecolor": "white",
            "showbackground": true,
            "ticks": "",
            "zerolinecolor": "white"
           }
          },
          "shapedefaults": {
           "line": {
            "color": "#2a3f5f"
           }
          },
          "ternary": {
           "aaxis": {
            "gridcolor": "white",
            "linecolor": "white",
            "ticks": ""
           },
           "baxis": {
            "gridcolor": "white",
            "linecolor": "white",
            "ticks": ""
           },
           "bgcolor": "#E5ECF6",
           "caxis": {
            "gridcolor": "white",
            "linecolor": "white",
            "ticks": ""
           }
          },
          "title": {
           "x": 0.05
          },
          "xaxis": {
           "automargin": true,
           "gridcolor": "white",
           "linecolor": "white",
           "ticks": "",
           "title": {
            "standoff": 15
           },
           "zerolinecolor": "white",
           "zerolinewidth": 2
          },
          "yaxis": {
           "automargin": true,
           "gridcolor": "white",
           "linecolor": "white",
           "ticks": "",
           "title": {
            "standoff": 15
           },
           "zerolinecolor": "white",
           "zerolinewidth": 2
          }
         }
        },
        "title": {
         "text": "Checking for Null values"
        },
        "xaxis": {
         "anchor": "y",
         "domain": [
          0,
          1
         ],
         "title": {
          "text": "index"
         }
        },
        "yaxis": {
         "anchor": "x",
         "domain": [
          0,
          1
         ],
         "title": {
          "text": "value"
         }
        }
       }
      },
      "text/html": [
       "<div>                            <div id=\"99c86f33-d0cd-4860-88cb-0381820dcb1a\" class=\"plotly-graph-div\" style=\"height:525px; width:100%;\"></div>            <script type=\"text/javascript\">                require([\"plotly\"], function(Plotly) {                    window.PLOTLYENV=window.PLOTLYENV || {};                                    if (document.getElementById(\"99c86f33-d0cd-4860-88cb-0381820dcb1a\")) {                    Plotly.newPlot(                        \"99c86f33-d0cd-4860-88cb-0381820dcb1a\",                        [{\"alignmentgroup\":\"True\",\"hovertemplate\":\"variable=0<br>index=%{x}<br>value=%{y}<extra></extra>\",\"legendgroup\":\"0\",\"marker\":{\"color\":\"#636efa\",\"pattern\":{\"shape\":\"\"}},\"name\":\"0\",\"offsetgroup\":\"0\",\"orientation\":\"v\",\"showlegend\":true,\"textposition\":\"auto\",\"x\":[\"Acc_X\",\"Acc_Y\",\"Acc_Z\"],\"xaxis\":\"x\",\"y\":[0,0,0],\"yaxis\":\"y\",\"type\":\"bar\"}],                        {\"template\":{\"data\":{\"histogram2dcontour\":[{\"type\":\"histogram2dcontour\",\"colorbar\":{\"outlinewidth\":0,\"ticks\":\"\"},\"colorscale\":[[0.0,\"#0d0887\"],[0.1111111111111111,\"#46039f\"],[0.2222222222222222,\"#7201a8\"],[0.3333333333333333,\"#9c179e\"],[0.4444444444444444,\"#bd3786\"],[0.5555555555555556,\"#d8576b\"],[0.6666666666666666,\"#ed7953\"],[0.7777777777777778,\"#fb9f3a\"],[0.8888888888888888,\"#fdca26\"],[1.0,\"#f0f921\"]]}],\"choropleth\":[{\"type\":\"choropleth\",\"colorbar\":{\"outlinewidth\":0,\"ticks\":\"\"}}],\"histogram2d\":[{\"type\":\"histogram2d\",\"colorbar\":{\"outlinewidth\":0,\"ticks\":\"\"},\"colorscale\":[[0.0,\"#0d0887\"],[0.1111111111111111,\"#46039f\"],[0.2222222222222222,\"#7201a8\"],[0.3333333333333333,\"#9c179e\"],[0.4444444444444444,\"#bd3786\"],[0.5555555555555556,\"#d8576b\"],[0.6666666666666666,\"#ed7953\"],[0.7777777777777778,\"#fb9f3a\"],[0.8888888888888888,\"#fdca26\"],[1.0,\"#f0f921\"]]}],\"heatmap\":[{\"type\":\"heatmap\",\"colorbar\":{\"outlinewidth\":0,\"ticks\":\"\"},\"colorscale\":[[0.0,\"#0d0887\"],[0.1111111111111111,\"#46039f\"],[0.2222222222222222,\"#7201a8\"],[0.3333333333333333,\"#9c179e\"],[0.4444444444444444,\"#bd3786\"],[0.5555555555555556,\"#d8576b\"],[0.6666666666666666,\"#ed7953\"],[0.7777777777777778,\"#fb9f3a\"],[0.8888888888888888,\"#fdca26\"],[1.0,\"#f0f921\"]]}],\"heatmapgl\":[{\"type\":\"heatmapgl\",\"colorbar\":{\"outlinewidth\":0,\"ticks\":\"\"},\"colorscale\":[[0.0,\"#0d0887\"],[0.1111111111111111,\"#46039f\"],[0.2222222222222222,\"#7201a8\"],[0.3333333333333333,\"#9c179e\"],[0.4444444444444444,\"#bd3786\"],[0.5555555555555556,\"#d8576b\"],[0.6666666666666666,\"#ed7953\"],[0.7777777777777778,\"#fb9f3a\"],[0.8888888888888888,\"#fdca26\"],[1.0,\"#f0f921\"]]}],\"contourcarpet\":[{\"type\":\"contourcarpet\",\"colorbar\":{\"outlinewidth\":0,\"ticks\":\"\"}}],\"contour\":[{\"type\":\"contour\",\"colorbar\":{\"outlinewidth\":0,\"ticks\":\"\"},\"colorscale\":[[0.0,\"#0d0887\"],[0.1111111111111111,\"#46039f\"],[0.2222222222222222,\"#7201a8\"],[0.3333333333333333,\"#9c179e\"],[0.4444444444444444,\"#bd3786\"],[0.5555555555555556,\"#d8576b\"],[0.6666666666666666,\"#ed7953\"],[0.7777777777777778,\"#fb9f3a\"],[0.8888888888888888,\"#fdca26\"],[1.0,\"#f0f921\"]]}],\"surface\":[{\"type\":\"surface\",\"colorbar\":{\"outlinewidth\":0,\"ticks\":\"\"},\"colorscale\":[[0.0,\"#0d0887\"],[0.1111111111111111,\"#46039f\"],[0.2222222222222222,\"#7201a8\"],[0.3333333333333333,\"#9c179e\"],[0.4444444444444444,\"#bd3786\"],[0.5555555555555556,\"#d8576b\"],[0.6666666666666666,\"#ed7953\"],[0.7777777777777778,\"#fb9f3a\"],[0.8888888888888888,\"#fdca26\"],[1.0,\"#f0f921\"]]}],\"mesh3d\":[{\"type\":\"mesh3d\",\"colorbar\":{\"outlinewidth\":0,\"ticks\":\"\"}}],\"scatter\":[{\"fillpattern\":{\"fillmode\":\"overlay\",\"size\":10,\"solidity\":0.2},\"type\":\"scatter\"}],\"parcoords\":[{\"type\":\"parcoords\",\"line\":{\"colorbar\":{\"outlinewidth\":0,\"ticks\":\"\"}}}],\"scatterpolargl\":[{\"type\":\"scatterpolargl\",\"marker\":{\"colorbar\":{\"outlinewidth\":0,\"ticks\":\"\"}}}],\"bar\":[{\"error_x\":{\"color\":\"#2a3f5f\"},\"error_y\":{\"color\":\"#2a3f5f\"},\"marker\":{\"line\":{\"color\":\"#E5ECF6\",\"width\":0.5},\"pattern\":{\"fillmode\":\"overlay\",\"size\":10,\"solidity\":0.2}},\"type\":\"bar\"}],\"scattergeo\":[{\"type\":\"scattergeo\",\"marker\":{\"colorbar\":{\"outlinewidth\":0,\"ticks\":\"\"}}}],\"scatterpolar\":[{\"type\":\"scatterpolar\",\"marker\":{\"colorbar\":{\"outlinewidth\":0,\"ticks\":\"\"}}}],\"histogram\":[{\"marker\":{\"pattern\":{\"fillmode\":\"overlay\",\"size\":10,\"solidity\":0.2}},\"type\":\"histogram\"}],\"scattergl\":[{\"type\":\"scattergl\",\"marker\":{\"colorbar\":{\"outlinewidth\":0,\"ticks\":\"\"}}}],\"scatter3d\":[{\"type\":\"scatter3d\",\"line\":{\"colorbar\":{\"outlinewidth\":0,\"ticks\":\"\"}},\"marker\":{\"colorbar\":{\"outlinewidth\":0,\"ticks\":\"\"}}}],\"scattermapbox\":[{\"type\":\"scattermapbox\",\"marker\":{\"colorbar\":{\"outlinewidth\":0,\"ticks\":\"\"}}}],\"scatterternary\":[{\"type\":\"scatterternary\",\"marker\":{\"colorbar\":{\"outlinewidth\":0,\"ticks\":\"\"}}}],\"scattercarpet\":[{\"type\":\"scattercarpet\",\"marker\":{\"colorbar\":{\"outlinewidth\":0,\"ticks\":\"\"}}}],\"carpet\":[{\"aaxis\":{\"endlinecolor\":\"#2a3f5f\",\"gridcolor\":\"white\",\"linecolor\":\"white\",\"minorgridcolor\":\"white\",\"startlinecolor\":\"#2a3f5f\"},\"baxis\":{\"endlinecolor\":\"#2a3f5f\",\"gridcolor\":\"white\",\"linecolor\":\"white\",\"minorgridcolor\":\"white\",\"startlinecolor\":\"#2a3f5f\"},\"type\":\"carpet\"}],\"table\":[{\"cells\":{\"fill\":{\"color\":\"#EBF0F8\"},\"line\":{\"color\":\"white\"}},\"header\":{\"fill\":{\"color\":\"#C8D4E3\"},\"line\":{\"color\":\"white\"}},\"type\":\"table\"}],\"barpolar\":[{\"marker\":{\"line\":{\"color\":\"#E5ECF6\",\"width\":0.5},\"pattern\":{\"fillmode\":\"overlay\",\"size\":10,\"solidity\":0.2}},\"type\":\"barpolar\"}],\"pie\":[{\"automargin\":true,\"type\":\"pie\"}]},\"layout\":{\"autotypenumbers\":\"strict\",\"colorway\":[\"#636efa\",\"#EF553B\",\"#00cc96\",\"#ab63fa\",\"#FFA15A\",\"#19d3f3\",\"#FF6692\",\"#B6E880\",\"#FF97FF\",\"#FECB52\"],\"font\":{\"color\":\"#2a3f5f\"},\"hovermode\":\"closest\",\"hoverlabel\":{\"align\":\"left\"},\"paper_bgcolor\":\"white\",\"plot_bgcolor\":\"#E5ECF6\",\"polar\":{\"bgcolor\":\"#E5ECF6\",\"angularaxis\":{\"gridcolor\":\"white\",\"linecolor\":\"white\",\"ticks\":\"\"},\"radialaxis\":{\"gridcolor\":\"white\",\"linecolor\":\"white\",\"ticks\":\"\"}},\"ternary\":{\"bgcolor\":\"#E5ECF6\",\"aaxis\":{\"gridcolor\":\"white\",\"linecolor\":\"white\",\"ticks\":\"\"},\"baxis\":{\"gridcolor\":\"white\",\"linecolor\":\"white\",\"ticks\":\"\"},\"caxis\":{\"gridcolor\":\"white\",\"linecolor\":\"white\",\"ticks\":\"\"}},\"coloraxis\":{\"colorbar\":{\"outlinewidth\":0,\"ticks\":\"\"}},\"colorscale\":{\"sequential\":[[0.0,\"#0d0887\"],[0.1111111111111111,\"#46039f\"],[0.2222222222222222,\"#7201a8\"],[0.3333333333333333,\"#9c179e\"],[0.4444444444444444,\"#bd3786\"],[0.5555555555555556,\"#d8576b\"],[0.6666666666666666,\"#ed7953\"],[0.7777777777777778,\"#fb9f3a\"],[0.8888888888888888,\"#fdca26\"],[1.0,\"#f0f921\"]],\"sequentialminus\":[[0.0,\"#0d0887\"],[0.1111111111111111,\"#46039f\"],[0.2222222222222222,\"#7201a8\"],[0.3333333333333333,\"#9c179e\"],[0.4444444444444444,\"#bd3786\"],[0.5555555555555556,\"#d8576b\"],[0.6666666666666666,\"#ed7953\"],[0.7777777777777778,\"#fb9f3a\"],[0.8888888888888888,\"#fdca26\"],[1.0,\"#f0f921\"]],\"diverging\":[[0,\"#8e0152\"],[0.1,\"#c51b7d\"],[0.2,\"#de77ae\"],[0.3,\"#f1b6da\"],[0.4,\"#fde0ef\"],[0.5,\"#f7f7f7\"],[0.6,\"#e6f5d0\"],[0.7,\"#b8e186\"],[0.8,\"#7fbc41\"],[0.9,\"#4d9221\"],[1,\"#276419\"]]},\"xaxis\":{\"gridcolor\":\"white\",\"linecolor\":\"white\",\"ticks\":\"\",\"title\":{\"standoff\":15},\"zerolinecolor\":\"white\",\"automargin\":true,\"zerolinewidth\":2},\"yaxis\":{\"gridcolor\":\"white\",\"linecolor\":\"white\",\"ticks\":\"\",\"title\":{\"standoff\":15},\"zerolinecolor\":\"white\",\"automargin\":true,\"zerolinewidth\":2},\"scene\":{\"xaxis\":{\"backgroundcolor\":\"#E5ECF6\",\"gridcolor\":\"white\",\"linecolor\":\"white\",\"showbackground\":true,\"ticks\":\"\",\"zerolinecolor\":\"white\",\"gridwidth\":2},\"yaxis\":{\"backgroundcolor\":\"#E5ECF6\",\"gridcolor\":\"white\",\"linecolor\":\"white\",\"showbackground\":true,\"ticks\":\"\",\"zerolinecolor\":\"white\",\"gridwidth\":2},\"zaxis\":{\"backgroundcolor\":\"#E5ECF6\",\"gridcolor\":\"white\",\"linecolor\":\"white\",\"showbackground\":true,\"ticks\":\"\",\"zerolinecolor\":\"white\",\"gridwidth\":2}},\"shapedefaults\":{\"line\":{\"color\":\"#2a3f5f\"}},\"annotationdefaults\":{\"arrowcolor\":\"#2a3f5f\",\"arrowhead\":0,\"arrowwidth\":1},\"geo\":{\"bgcolor\":\"white\",\"landcolor\":\"#E5ECF6\",\"subunitcolor\":\"white\",\"showland\":true,\"showlakes\":true,\"lakecolor\":\"white\"},\"title\":{\"x\":0.05},\"mapbox\":{\"style\":\"light\"}}},\"xaxis\":{\"anchor\":\"y\",\"domain\":[0.0,1.0],\"title\":{\"text\":\"index\"}},\"yaxis\":{\"anchor\":\"x\",\"domain\":[0.0,1.0],\"title\":{\"text\":\"value\"}},\"legend\":{\"title\":{\"text\":\"variable\"},\"tracegroupgap\":0},\"title\":{\"text\":\"Checking for Null values\"},\"barmode\":\"relative\"},                        {\"responsive\": true}                    ).then(function(){\n",
       "                            \n",
       "var gd = document.getElementById('99c86f33-d0cd-4860-88cb-0381820dcb1a');\n",
       "var x = new MutationObserver(function (mutations, observer) {{\n",
       "        var display = window.getComputedStyle(gd).display;\n",
       "        if (!display || display === 'none') {{\n",
       "            console.log([gd, 'removed!']);\n",
       "            Plotly.purge(gd);\n",
       "            observer.disconnect();\n",
       "        }}\n",
       "}});\n",
       "\n",
       "// Listen for the removal of the full notebook cells\n",
       "var notebookContainer = gd.closest('#notebook-container');\n",
       "if (notebookContainer) {{\n",
       "    x.observe(notebookContainer, {childList: true});\n",
       "}}\n",
       "\n",
       "// Listen for the clearing of the current output cell\n",
       "var outputEl = gd.closest('.output');\n",
       "if (outputEl) {{\n",
       "    x.observe(outputEl, {childList: true});\n",
       "}}\n",
       "\n",
       "                        })                };                });            </script>        </div>"
      ]
     },
     "metadata": {},
     "output_type": "display_data"
    }
   ],
   "source": [
    "import plotly.express as px\n",
    "import seaborn as sns\n",
    "dfv= df[[\"Acc_X\",\"Acc_Y\",\"Acc_Z\"]]\n",
    "dfbv=dfv.isnull().sum()\n",
    "\n",
    "\n",
    "sns.set(color_codes=True)\n",
    "sns.set(rc={'figure.figsize':(15,15)})\n",
    "#data_canada = px.data.gapminder().query(\"country == 'Canada'\")\n",
    "fig = px.bar(dfbv,title=\"Checking for Null values\")\n",
    "\n",
    "fig.show()"
   ]
  },
  {
   "cell_type": "code",
   "execution_count": 84,
   "id": "b9c3b99f",
   "metadata": {},
   "outputs": [
    {
     "data": {
      "image/png": "[encoded data removed]",
      "text/plain": [
       "<Figure size 1500x1500 with 1 Axes>"
      ]
     },
     "metadata": {},
     "output_type": "display_data"
    }
   ],
   "source": [
    "sns.set(color_codes=True)\n",
    "sns.set(rc={'figure.figsize':(15,15)})\n",
    "fig= sns.boxplot(data=df.iloc[0:25955,0:3])\n",
    "figure=fig.get_figure()\n",
    "figure.savefig(\"withOutliers.png\")"
   ]
  },
  {
   "cell_type": "code",
   "execution_count": 85,
   "id": "280d4cdb",
   "metadata": {},
   "outputs": [],
   "source": [
    "Q1x = df['Acc_X'].quantile(0.25)\n",
    "Q1y = df['Acc_Y'].quantile(0.25)   \n",
    "Q1z = df['Acc_Z'].quantile(0.25)\n",
    "\n",
    "Q3x = df['Acc_X'].quantile(0.75)\n",
    "Q3y = df['Acc_Y'].quantile(0.75)   \n",
    "Q3z = df['Acc_Z'].quantile(0.75)\n",
    "  \n",
    "IQRx = Q3x - Q1x\n",
    "IQRy = Q3y - Q1y\n",
    "IQRz = Q3z - Q1z\n",
    "\n",
    "lim1x=(Q1x- 1.5 * IQRx)\n",
    "lim1y=(Q1y- 1.5 * IQRy)\n",
    "lim1z=(Q1z- 1.5 * IQRz)\n",
    "\n",
    "lim2x=(Q3x + 1.5 * IQRx)\n",
    "lim2y=(Q3y + 1.5 * IQRy)\n",
    "lim2z=(Q3z + 1.5 * IQRz)\n",
    "\n",
    "tenthx= df['Acc_X'].quantile(0.10)\n",
    "tenthy= df['Acc_Y'].quantile(0.10)\n",
    "tenthz= df['Acc_Z'].quantile(0.10)\n",
    "\n",
    "ninetyx=df['Acc_X'].quantile(0.90)\n",
    "ninetyy=df['Acc_Y'].quantile(0.90)\n",
    "ninetyz=df['Acc_Z'].quantile(0.90)\n",
    "    \n",
    "# print(tenthx,ninetyx)\n",
    "df['Acc_X']=np.where(df['Acc_X']<lim1x,tenthx,df['Acc_X'])\n",
    "df['Acc_X']=np.where(df['Acc_X']>lim2x,ninetyx,df['Acc_X'])\n",
    "\n",
    "df['Acc_Y']=np.where(df['Acc_Y']<lim1y,tenthy,df['Acc_Y'])\n",
    "df['Acc_Y']=np.where(df['Acc_Y']>lim2y,ninetyy,df['Acc_Y'])\n",
    "\n",
    "df['Acc_Z']=np.where(df['Acc_Z']<lim1z,tenthz,df['Acc_Z'])\n",
    "df['Acc_Z']=np.where(df['Acc_Z']>lim2z,ninetyz,df['Acc_Z'])"
   ]
  },
  {
   "cell_type": "code",
   "execution_count": 86,
   "id": "0f93eb0c",
   "metadata": {},
   "outputs": [
    {
     "data": {
      "image/png": "[encoded data removed]",
      "text/plain": [
       "<Figure size 1500x1500 with 1 Axes>"
      ]
     },
     "metadata": {},
     "output_type": "display_data"
    }
   ],
   "source": [
    "sns.set(color_codes=True)\n",
    "sns.set(rc={'figure.figsize':(15,15)})\n",
    "fig=sns.boxplot(data=df.iloc[0:6000,0:3],whis=[0, 100])\n",
    "count=0\n",
    "figure=fig.get_figure()\n",
    "figure.savefig(\"withOut_Outliers(Final Har_intensity).png\")"
   ]
  },
  {
   "cell_type": "code",
   "execution_count": 87,
   "id": "905fb8ef",
   "metadata": {},
   "outputs": [
    {
     "name": "stdout",
     "output_type": "stream",
     "text": [
      "[1.68358141e-06 1.68358141e-05 7.57611633e-05 2.02029769e-04\n",
      " 3.53552096e-04 4.24262515e-04 3.53552096e-04 2.02029769e-04\n",
      " 7.57611633e-05 1.68358141e-05 1.68358141e-06] [ 1.00000000e+00 -5.98758963e+00  1.66721933e+01 -2.82587879e+01\n",
      "  3.21597565e+01 -2.56017496e+01  1.44056874e+01 -5.64707434e+00\n",
      "  1.47372794e+00 -2.30919346e-01  1.64796305e-02]\n",
      "[1.68358141e-06 1.68358141e-05 7.57611633e-05 2.02029769e-04\n",
      " 3.53552096e-04 4.24262515e-04 3.53552096e-04 2.02029769e-04\n",
      " 7.57611633e-05 1.68358141e-05 1.68358141e-06] [ 1.00000000e+00 -5.98758963e+00  1.66721933e+01 -2.82587879e+01\n",
      "  3.21597565e+01 -2.56017496e+01  1.44056874e+01 -5.64707434e+00\n",
      "  1.47372794e+00 -2.30919346e-01  1.64796305e-02]\n",
      "[1.68358141e-06 1.68358141e-05 7.57611633e-05 2.02029769e-04\n",
      " 3.53552096e-04 4.24262515e-04 3.53552096e-04 2.02029769e-04\n",
      " 7.57611633e-05 1.68358141e-05 1.68358141e-06] [ 1.00000000e+00 -5.98758963e+00  1.66721933e+01 -2.82587879e+01\n",
      "  3.21597565e+01 -2.56017496e+01  1.44056874e+01 -5.64707434e+00\n",
      "  1.47372794e+00 -2.30919346e-01  1.64796305e-02]\n"
     ]
    }
   ],
   "source": [
    "def butter_lowpass(cutoff, fs, order):\n",
    "    nyq = 0.5 * fs\n",
    "    normal_cutoff = cutoff / nyq\n",
    "    b, a = butter(order, normal_cutoff, btype='low', analog=False)\n",
    "    return b, a\n",
    "\n",
    "def butter_lowpass_filter(data, cutoff, fs, order):\n",
    "    b, a = butter_lowpass(cutoff, fs, order=order)\n",
    "    print(b,a)\n",
    "    y = lfilter(b, a, data)\n",
    "    return y\n",
    "\n",
    "df['Acc_X']= butter_lowpass_filter(df['Acc_X'], 10, 100, 10)\n",
    "df['Acc_Y']= butter_lowpass_filter(df['Acc_Y'], 10, 100, 10)\n",
    "df['Acc_Z']= butter_lowpass_filter(df['Acc_Z'], 10, 100, 10)"
   ]
  },
  {
   "cell_type": "code",
   "execution_count": 88,
   "id": "9ece549e",
   "metadata": {},
   "outputs": [
    {
     "data": {
      "text/html": [
       "<div>\n",
       "<style scoped>\n",
       "    .dataframe tbody tr th:only-of-type {\n",
       "        vertical-align: middle;\n",
       "    }\n",
       "\n",
       "    .dataframe tbody tr th {\n",
       "        vertical-align: top;\n",
       "    }\n",
       "\n",
       "    .dataframe thead th {\n",
       "        text-align: right;\n",
       "    }\n",
       "</style>\n",
       "<table border=\"1\" class=\"dataframe\">\n",
       "  <thead>\n",
       "    <tr style=\"text-align: right;\">\n",
       "      <th></th>\n",
       "      <th>Acc_X</th>\n",
       "      <th>Acc_Y</th>\n",
       "      <th>Acc_Z</th>\n",
       "      <th>Mean</th>\n",
       "      <th>Median</th>\n",
       "      <th>Variance</th>\n",
       "      <th>Standard_Deviation</th>\n",
       "    </tr>\n",
       "  </thead>\n",
       "  <tbody>\n",
       "    <tr>\n",
       "      <th>0</th>\n",
       "      <td>-0.000001</td>\n",
       "      <td>-0.000016</td>\n",
       "      <td>0.000002</td>\n",
       "      <td>-0.000005</td>\n",
       "      <td>-0.000001</td>\n",
       "      <td>9.997948e-11</td>\n",
       "      <td>0.000010</td>\n",
       "    </tr>\n",
       "    <tr>\n",
       "      <th>1</th>\n",
       "      <td>-0.000019</td>\n",
       "      <td>-0.000278</td>\n",
       "      <td>0.000039</td>\n",
       "      <td>-0.000086</td>\n",
       "      <td>-0.000019</td>\n",
       "      <td>2.852189e-08</td>\n",
       "      <td>0.000169</td>\n",
       "    </tr>\n",
       "    <tr>\n",
       "      <th>2</th>\n",
       "      <td>-0.000155</td>\n",
       "      <td>-0.002312</td>\n",
       "      <td>0.000296</td>\n",
       "      <td>-0.000724</td>\n",
       "      <td>-0.000155</td>\n",
       "      <td>1.941891e-06</td>\n",
       "      <td>0.001394</td>\n",
       "    </tr>\n",
       "    <tr>\n",
       "      <th>3</th>\n",
       "      <td>-0.000843</td>\n",
       "      <td>-0.012559</td>\n",
       "      <td>0.001450</td>\n",
       "      <td>-0.003984</td>\n",
       "      <td>-0.000843</td>\n",
       "      <td>5.646022e-05</td>\n",
       "      <td>0.007514</td>\n",
       "    </tr>\n",
       "    <tr>\n",
       "      <th>4</th>\n",
       "      <td>-0.003377</td>\n",
       "      <td>-0.050345</td>\n",
       "      <td>0.005163</td>\n",
       "      <td>-0.016186</td>\n",
       "      <td>-0.003377</td>\n",
       "      <td>8.933406e-04</td>\n",
       "      <td>0.029889</td>\n",
       "    </tr>\n",
       "    <tr>\n",
       "      <th>...</th>\n",
       "      <td>...</td>\n",
       "      <td>...</td>\n",
       "      <td>...</td>\n",
       "      <td>...</td>\n",
       "      <td>...</td>\n",
       "      <td>...</td>\n",
       "      <td>...</td>\n",
       "    </tr>\n",
       "    <tr>\n",
       "      <th>1507</th>\n",
       "      <td>-1.637045</td>\n",
       "      <td>-10.287375</td>\n",
       "      <td>-0.552160</td>\n",
       "      <td>-4.158860</td>\n",
       "      <td>-1.637045</td>\n",
       "      <td>2.846327e+01</td>\n",
       "      <td>5.335098</td>\n",
       "    </tr>\n",
       "    <tr>\n",
       "      <th>1508</th>\n",
       "      <td>-1.562152</td>\n",
       "      <td>-10.138353</td>\n",
       "      <td>-0.545346</td>\n",
       "      <td>-4.081951</td>\n",
       "      <td>-1.562152</td>\n",
       "      <td>2.776848e+01</td>\n",
       "      <td>5.269581</td>\n",
       "    </tr>\n",
       "    <tr>\n",
       "      <th>1509</th>\n",
       "      <td>-1.521083</td>\n",
       "      <td>-10.003758</td>\n",
       "      <td>-0.490638</td>\n",
       "      <td>-4.005160</td>\n",
       "      <td>-1.521083</td>\n",
       "      <td>2.725284e+01</td>\n",
       "      <td>5.220425</td>\n",
       "    </tr>\n",
       "    <tr>\n",
       "      <th>1510</th>\n",
       "      <td>-1.521671</td>\n",
       "      <td>-9.925527</td>\n",
       "      <td>-0.384306</td>\n",
       "      <td>-3.943834</td>\n",
       "      <td>-1.521671</td>\n",
       "      <td>2.715888e+01</td>\n",
       "      <td>5.211418</td>\n",
       "    </tr>\n",
       "    <tr>\n",
       "      <th>1511</th>\n",
       "      <td>-1.556938</td>\n",
       "      <td>-9.926723</td>\n",
       "      <td>-0.254985</td>\n",
       "      <td>-3.912882</td>\n",
       "      <td>-1.556938</td>\n",
       "      <td>2.754848e+01</td>\n",
       "      <td>5.248665</td>\n",
       "    </tr>\n",
       "  </tbody>\n",
       "</table>\n",
       "<p>1512 rows × 7 columns</p>\n",
       "</div>"
      ],
      "text/plain": [
       "         Acc_X      Acc_Y     Acc_Z      Mean    Median      Variance  \\\n",
       "0    -0.000001  -0.000016  0.000002 -0.000005 -0.000001  9.997948e-11   \n",
       "1    -0.000019  -0.000278  0.000039 -0.000086 -0.000019  2.852189e-08   \n",
       "2    -0.000155  -0.002312  0.000296 -0.000724 -0.000155  1.941891e-06   \n",
       "3    -0.000843  -0.012559  0.001450 -0.003984 -0.000843  5.646022e-05   \n",
       "4    -0.003377  -0.050345  0.005163 -0.016186 -0.003377  8.933406e-04   \n",
       "...        ...        ...       ...       ...       ...           ...   \n",
       "1507 -1.637045 -10.287375 -0.552160 -4.158860 -1.637045  2.846327e+01   \n",
       "1508 -1.562152 -10.138353 -0.545346 -4.081951 -1.562152  2.776848e+01   \n",
       "1509 -1.521083 -10.003758 -0.490638 -4.005160 -1.521083  2.725284e+01   \n",
       "1510 -1.521671  -9.925527 -0.384306 -3.943834 -1.521671  2.715888e+01   \n",
       "1511 -1.556938  -9.926723 -0.254985 -3.912882 -1.556938  2.754848e+01   \n",
       "\n",
       "      Standard_Deviation  \n",
       "0               0.000010  \n",
       "1               0.000169  \n",
       "2               0.001394  \n",
       "3               0.007514  \n",
       "4               0.029889  \n",
       "...                  ...  \n",
       "1507            5.335098  \n",
       "1508            5.269581  \n",
       "1509            5.220425  \n",
       "1510            5.211418  \n",
       "1511            5.248665  \n",
       "\n",
       "[1512 rows x 7 columns]"
      ]
     },
     "execution_count": 88,
     "metadata": {},
     "output_type": "execute_result"
    }
   ],
   "source": [
    "#feature enginerring\n",
    "df=df.eval('Mean = (Acc_X+Acc_Y+Acc_Z)/3')\n",
    "df['Median']=df.loc[:,['Acc_X','Acc_Y','Acc_Z']].median(axis=1)\n",
    "df['Variance']=df.loc[:,['Acc_X','Acc_Y','Acc_Z']].var(axis=1)\n",
    "df['Standard_Deviation']=df.loc[:,['Acc_X','Acc_Y','Acc_Z']].std(axis=1)\n",
    "df"
   ]
  },
  {
   "cell_type": "code",
   "execution_count": 89,
   "id": "bbf6e735",
   "metadata": {},
   "outputs": [
    {
     "data": {
      "text/html": [
       "<div>\n",
       "<style scoped>\n",
       "    .dataframe tbody tr th:only-of-type {\n",
       "        vertical-align: middle;\n",
       "    }\n",
       "\n",
       "    .dataframe tbody tr th {\n",
       "        vertical-align: top;\n",
       "    }\n",
       "\n",
       "    .dataframe thead th {\n",
       "        text-align: right;\n",
       "    }\n",
       "</style>\n",
       "<table border=\"1\" class=\"dataframe\">\n",
       "  <thead>\n",
       "    <tr style=\"text-align: right;\">\n",
       "      <th></th>\n",
       "      <th>Acc_X</th>\n",
       "      <th>Acc_Y</th>\n",
       "      <th>Acc_Z</th>\n",
       "      <th>Mean</th>\n",
       "      <th>Median</th>\n",
       "      <th>Variance</th>\n",
       "      <th>Standard_Deviation</th>\n",
       "      <th>Q3</th>\n",
       "      <th>Q1</th>\n",
       "    </tr>\n",
       "  </thead>\n",
       "  <tbody>\n",
       "    <tr>\n",
       "      <th>0</th>\n",
       "      <td>-0.000001</td>\n",
       "      <td>-0.000016</td>\n",
       "      <td>0.000002</td>\n",
       "      <td>-0.000005</td>\n",
       "      <td>-0.000001</td>\n",
       "      <td>9.997948e-11</td>\n",
       "      <td>0.000010</td>\n",
       "      <td>6.758973e-07</td>\n",
       "      <td>-0.000009</td>\n",
       "    </tr>\n",
       "    <tr>\n",
       "      <th>1</th>\n",
       "      <td>-0.000019</td>\n",
       "      <td>-0.000278</td>\n",
       "      <td>0.000039</td>\n",
       "      <td>-0.000086</td>\n",
       "      <td>-0.000019</td>\n",
       "      <td>2.852189e-08</td>\n",
       "      <td>0.000169</td>\n",
       "      <td>1.004426e-05</td>\n",
       "      <td>-0.000148</td>\n",
       "    </tr>\n",
       "    <tr>\n",
       "      <th>2</th>\n",
       "      <td>-0.000155</td>\n",
       "      <td>-0.002312</td>\n",
       "      <td>0.000296</td>\n",
       "      <td>-0.000724</td>\n",
       "      <td>-0.000155</td>\n",
       "      <td>1.941891e-06</td>\n",
       "      <td>0.001394</td>\n",
       "      <td>7.013108e-05</td>\n",
       "      <td>-0.001234</td>\n",
       "    </tr>\n",
       "    <tr>\n",
       "      <th>3</th>\n",
       "      <td>-0.000843</td>\n",
       "      <td>-0.012559</td>\n",
       "      <td>0.001450</td>\n",
       "      <td>-0.003984</td>\n",
       "      <td>-0.000843</td>\n",
       "      <td>5.646022e-05</td>\n",
       "      <td>0.007514</td>\n",
       "      <td>3.033474e-04</td>\n",
       "      <td>-0.006701</td>\n",
       "    </tr>\n",
       "    <tr>\n",
       "      <th>4</th>\n",
       "      <td>-0.003377</td>\n",
       "      <td>-0.050345</td>\n",
       "      <td>0.005163</td>\n",
       "      <td>-0.016186</td>\n",
       "      <td>-0.003377</td>\n",
       "      <td>8.933406e-04</td>\n",
       "      <td>0.029889</td>\n",
       "      <td>8.930138e-04</td>\n",
       "      <td>-0.026861</td>\n",
       "    </tr>\n",
       "    <tr>\n",
       "      <th>...</th>\n",
       "      <td>...</td>\n",
       "      <td>...</td>\n",
       "      <td>...</td>\n",
       "      <td>...</td>\n",
       "      <td>...</td>\n",
       "      <td>...</td>\n",
       "      <td>...</td>\n",
       "      <td>...</td>\n",
       "      <td>...</td>\n",
       "    </tr>\n",
       "    <tr>\n",
       "      <th>1507</th>\n",
       "      <td>-1.637045</td>\n",
       "      <td>-10.287375</td>\n",
       "      <td>-0.552160</td>\n",
       "      <td>-4.158860</td>\n",
       "      <td>-1.637045</td>\n",
       "      <td>2.846327e+01</td>\n",
       "      <td>5.335098</td>\n",
       "      <td>-1.094602e+00</td>\n",
       "      <td>-5.962210</td>\n",
       "    </tr>\n",
       "    <tr>\n",
       "      <th>1508</th>\n",
       "      <td>-1.562152</td>\n",
       "      <td>-10.138353</td>\n",
       "      <td>-0.545346</td>\n",
       "      <td>-4.081951</td>\n",
       "      <td>-1.562152</td>\n",
       "      <td>2.776848e+01</td>\n",
       "      <td>5.269581</td>\n",
       "      <td>-1.053749e+00</td>\n",
       "      <td>-5.850253</td>\n",
       "    </tr>\n",
       "    <tr>\n",
       "      <th>1509</th>\n",
       "      <td>-1.521083</td>\n",
       "      <td>-10.003758</td>\n",
       "      <td>-0.490638</td>\n",
       "      <td>-4.005160</td>\n",
       "      <td>-1.521083</td>\n",
       "      <td>2.725284e+01</td>\n",
       "      <td>5.220425</td>\n",
       "      <td>-1.005860e+00</td>\n",
       "      <td>-5.762420</td>\n",
       "    </tr>\n",
       "    <tr>\n",
       "      <th>1510</th>\n",
       "      <td>-1.521671</td>\n",
       "      <td>-9.925527</td>\n",
       "      <td>-0.384306</td>\n",
       "      <td>-3.943834</td>\n",
       "      <td>-1.521671</td>\n",
       "      <td>2.715888e+01</td>\n",
       "      <td>5.211418</td>\n",
       "      <td>-9.529882e-01</td>\n",
       "      <td>-5.723599</td>\n",
       "    </tr>\n",
       "    <tr>\n",
       "      <th>1511</th>\n",
       "      <td>-1.556938</td>\n",
       "      <td>-9.926723</td>\n",
       "      <td>-0.254985</td>\n",
       "      <td>-3.912882</td>\n",
       "      <td>-1.556938</td>\n",
       "      <td>2.754848e+01</td>\n",
       "      <td>5.248665</td>\n",
       "      <td>-9.059615e-01</td>\n",
       "      <td>-5.741831</td>\n",
       "    </tr>\n",
       "  </tbody>\n",
       "</table>\n",
       "<p>1512 rows × 9 columns</p>\n",
       "</div>"
      ],
      "text/plain": [
       "         Acc_X      Acc_Y     Acc_Z      Mean    Median      Variance  \\\n",
       "0    -0.000001  -0.000016  0.000002 -0.000005 -0.000001  9.997948e-11   \n",
       "1    -0.000019  -0.000278  0.000039 -0.000086 -0.000019  2.852189e-08   \n",
       "2    -0.000155  -0.002312  0.000296 -0.000724 -0.000155  1.941891e-06   \n",
       "3    -0.000843  -0.012559  0.001450 -0.003984 -0.000843  5.646022e-05   \n",
       "4    -0.003377  -0.050345  0.005163 -0.016186 -0.003377  8.933406e-04   \n",
       "...        ...        ...       ...       ...       ...           ...   \n",
       "1507 -1.637045 -10.287375 -0.552160 -4.158860 -1.637045  2.846327e+01   \n",
       "1508 -1.562152 -10.138353 -0.545346 -4.081951 -1.562152  2.776848e+01   \n",
       "1509 -1.521083 -10.003758 -0.490638 -4.005160 -1.521083  2.725284e+01   \n",
       "1510 -1.521671  -9.925527 -0.384306 -3.943834 -1.521671  2.715888e+01   \n",
       "1511 -1.556938  -9.926723 -0.254985 -3.912882 -1.556938  2.754848e+01   \n",
       "\n",
       "      Standard_Deviation            Q3        Q1  \n",
       "0               0.000010  6.758973e-07 -0.000009  \n",
       "1               0.000169  1.004426e-05 -0.000148  \n",
       "2               0.001394  7.013108e-05 -0.001234  \n",
       "3               0.007514  3.033474e-04 -0.006701  \n",
       "4               0.029889  8.930138e-04 -0.026861  \n",
       "...                  ...           ...       ...  \n",
       "1507            5.335098 -1.094602e+00 -5.962210  \n",
       "1508            5.269581 -1.053749e+00 -5.850253  \n",
       "1509            5.220425 -1.005860e+00 -5.762420  \n",
       "1510            5.211418 -9.529882e-01 -5.723599  \n",
       "1511            5.248665 -9.059615e-01 -5.741831  \n",
       "\n",
       "[1512 rows x 9 columns]"
      ]
     },
     "execution_count": 89,
     "metadata": {},
     "output_type": "execute_result"
    }
   ],
   "source": [
    "sort=np.sort(df.loc[:,['Acc_X','Acc_Y','Acc_Z']],axis=1)\n",
    "\n",
    "q3=[]\n",
    "q1=[]\n",
    "for x in sort:\n",
    "\n",
    "    q3x,q1x= np.percentile(x,[75,25])\n",
    "    q3.append(q3x)\n",
    "    q1.append(q1x)\n",
    "df['Q3']=q3\n",
    "df['Q1']=q1\n",
    "df"
   ]
  },
  {
   "cell_type": "code",
   "execution_count": 90,
   "id": "4deef208",
   "metadata": {},
   "outputs": [
    {
     "data": {
      "text/html": [
       "<div>\n",
       "<style scoped>\n",
       "    .dataframe tbody tr th:only-of-type {\n",
       "        vertical-align: middle;\n",
       "    }\n",
       "\n",
       "    .dataframe tbody tr th {\n",
       "        vertical-align: top;\n",
       "    }\n",
       "\n",
       "    .dataframe thead th {\n",
       "        text-align: right;\n",
       "    }\n",
       "</style>\n",
       "<table border=\"1\" class=\"dataframe\">\n",
       "  <thead>\n",
       "    <tr style=\"text-align: right;\">\n",
       "      <th></th>\n",
       "      <th>Acc_X</th>\n",
       "      <th>Acc_Y</th>\n",
       "      <th>Acc_Z</th>\n",
       "      <th>Mean</th>\n",
       "      <th>Median</th>\n",
       "      <th>Variance</th>\n",
       "      <th>Standard_Deviation</th>\n",
       "      <th>Q3</th>\n",
       "      <th>Q1</th>\n",
       "      <th>ZCR</th>\n",
       "    </tr>\n",
       "  </thead>\n",
       "  <tbody>\n",
       "    <tr>\n",
       "      <th>0</th>\n",
       "      <td>-0.000001</td>\n",
       "      <td>-0.000016</td>\n",
       "      <td>0.000002</td>\n",
       "      <td>-0.000005</td>\n",
       "      <td>-0.000001</td>\n",
       "      <td>9.997948e-11</td>\n",
       "      <td>0.000010</td>\n",
       "      <td>6.758973e-07</td>\n",
       "      <td>-0.000009</td>\n",
       "      <td>0.33</td>\n",
       "    </tr>\n",
       "    <tr>\n",
       "      <th>1</th>\n",
       "      <td>-0.000019</td>\n",
       "      <td>-0.000278</td>\n",
       "      <td>0.000039</td>\n",
       "      <td>-0.000086</td>\n",
       "      <td>-0.000019</td>\n",
       "      <td>2.852189e-08</td>\n",
       "      <td>0.000169</td>\n",
       "      <td>1.004426e-05</td>\n",
       "      <td>-0.000148</td>\n",
       "      <td>0.33</td>\n",
       "    </tr>\n",
       "    <tr>\n",
       "      <th>2</th>\n",
       "      <td>-0.000155</td>\n",
       "      <td>-0.002312</td>\n",
       "      <td>0.000296</td>\n",
       "      <td>-0.000724</td>\n",
       "      <td>-0.000155</td>\n",
       "      <td>1.941891e-06</td>\n",
       "      <td>0.001394</td>\n",
       "      <td>7.013108e-05</td>\n",
       "      <td>-0.001234</td>\n",
       "      <td>0.33</td>\n",
       "    </tr>\n",
       "    <tr>\n",
       "      <th>3</th>\n",
       "      <td>-0.000843</td>\n",
       "      <td>-0.012559</td>\n",
       "      <td>0.001450</td>\n",
       "      <td>-0.003984</td>\n",
       "      <td>-0.000843</td>\n",
       "      <td>5.646022e-05</td>\n",
       "      <td>0.007514</td>\n",
       "      <td>3.033474e-04</td>\n",
       "      <td>-0.006701</td>\n",
       "      <td>0.33</td>\n",
       "    </tr>\n",
       "    <tr>\n",
       "      <th>4</th>\n",
       "      <td>-0.003377</td>\n",
       "      <td>-0.050345</td>\n",
       "      <td>0.005163</td>\n",
       "      <td>-0.016186</td>\n",
       "      <td>-0.003377</td>\n",
       "      <td>8.933406e-04</td>\n",
       "      <td>0.029889</td>\n",
       "      <td>8.930138e-04</td>\n",
       "      <td>-0.026861</td>\n",
       "      <td>0.33</td>\n",
       "    </tr>\n",
       "    <tr>\n",
       "      <th>...</th>\n",
       "      <td>...</td>\n",
       "      <td>...</td>\n",
       "      <td>...</td>\n",
       "      <td>...</td>\n",
       "      <td>...</td>\n",
       "      <td>...</td>\n",
       "      <td>...</td>\n",
       "      <td>...</td>\n",
       "      <td>...</td>\n",
       "      <td>...</td>\n",
       "    </tr>\n",
       "    <tr>\n",
       "      <th>1507</th>\n",
       "      <td>-1.637045</td>\n",
       "      <td>-10.287375</td>\n",
       "      <td>-0.552160</td>\n",
       "      <td>-4.158860</td>\n",
       "      <td>-1.637045</td>\n",
       "      <td>2.846327e+01</td>\n",
       "      <td>5.335098</td>\n",
       "      <td>-1.094602e+00</td>\n",
       "      <td>-5.962210</td>\n",
       "      <td>0.00</td>\n",
       "    </tr>\n",
       "    <tr>\n",
       "      <th>1508</th>\n",
       "      <td>-1.562152</td>\n",
       "      <td>-10.138353</td>\n",
       "      <td>-0.545346</td>\n",
       "      <td>-4.081951</td>\n",
       "      <td>-1.562152</td>\n",
       "      <td>2.776848e+01</td>\n",
       "      <td>5.269581</td>\n",
       "      <td>-1.053749e+00</td>\n",
       "      <td>-5.850253</td>\n",
       "      <td>0.00</td>\n",
       "    </tr>\n",
       "    <tr>\n",
       "      <th>1509</th>\n",
       "      <td>-1.521083</td>\n",
       "      <td>-10.003758</td>\n",
       "      <td>-0.490638</td>\n",
       "      <td>-4.005160</td>\n",
       "      <td>-1.521083</td>\n",
       "      <td>2.725284e+01</td>\n",
       "      <td>5.220425</td>\n",
       "      <td>-1.005860e+00</td>\n",
       "      <td>-5.762420</td>\n",
       "      <td>0.00</td>\n",
       "    </tr>\n",
       "    <tr>\n",
       "      <th>1510</th>\n",
       "      <td>-1.521671</td>\n",
       "      <td>-9.925527</td>\n",
       "      <td>-0.384306</td>\n",
       "      <td>-3.943834</td>\n",
       "      <td>-1.521671</td>\n",
       "      <td>2.715888e+01</td>\n",
       "      <td>5.211418</td>\n",
       "      <td>-9.529882e-01</td>\n",
       "      <td>-5.723599</td>\n",
       "      <td>0.00</td>\n",
       "    </tr>\n",
       "    <tr>\n",
       "      <th>1511</th>\n",
       "      <td>-1.556938</td>\n",
       "      <td>-9.926723</td>\n",
       "      <td>-0.254985</td>\n",
       "      <td>-3.912882</td>\n",
       "      <td>-1.556938</td>\n",
       "      <td>2.754848e+01</td>\n",
       "      <td>5.248665</td>\n",
       "      <td>-9.059615e-01</td>\n",
       "      <td>-5.741831</td>\n",
       "      <td>0.00</td>\n",
       "    </tr>\n",
       "  </tbody>\n",
       "</table>\n",
       "<p>1512 rows × 10 columns</p>\n",
       "</div>"
      ],
      "text/plain": [
       "         Acc_X      Acc_Y     Acc_Z      Mean    Median      Variance  \\\n",
       "0    -0.000001  -0.000016  0.000002 -0.000005 -0.000001  9.997948e-11   \n",
       "1    -0.000019  -0.000278  0.000039 -0.000086 -0.000019  2.852189e-08   \n",
       "2    -0.000155  -0.002312  0.000296 -0.000724 -0.000155  1.941891e-06   \n",
       "3    -0.000843  -0.012559  0.001450 -0.003984 -0.000843  5.646022e-05   \n",
       "4    -0.003377  -0.050345  0.005163 -0.016186 -0.003377  8.933406e-04   \n",
       "...        ...        ...       ...       ...       ...           ...   \n",
       "1507 -1.637045 -10.287375 -0.552160 -4.158860 -1.637045  2.846327e+01   \n",
       "1508 -1.562152 -10.138353 -0.545346 -4.081951 -1.562152  2.776848e+01   \n",
       "1509 -1.521083 -10.003758 -0.490638 -4.005160 -1.521083  2.725284e+01   \n",
       "1510 -1.521671  -9.925527 -0.384306 -3.943834 -1.521671  2.715888e+01   \n",
       "1511 -1.556938  -9.926723 -0.254985 -3.912882 -1.556938  2.754848e+01   \n",
       "\n",
       "      Standard_Deviation            Q3        Q1   ZCR  \n",
       "0               0.000010  6.758973e-07 -0.000009  0.33  \n",
       "1               0.000169  1.004426e-05 -0.000148  0.33  \n",
       "2               0.001394  7.013108e-05 -0.001234  0.33  \n",
       "3               0.007514  3.033474e-04 -0.006701  0.33  \n",
       "4               0.029889  8.930138e-04 -0.026861  0.33  \n",
       "...                  ...           ...       ...   ...  \n",
       "1507            5.335098 -1.094602e+00 -5.962210  0.00  \n",
       "1508            5.269581 -1.053749e+00 -5.850253  0.00  \n",
       "1509            5.220425 -1.005860e+00 -5.762420  0.00  \n",
       "1510            5.211418 -9.529882e-01 -5.723599  0.00  \n",
       "1511            5.248665 -9.059615e-01 -5.741831  0.00  \n",
       "\n",
       "[1512 rows x 10 columns]"
      ]
     },
     "execution_count": 90,
     "metadata": {},
     "output_type": "execute_result"
    }
   ],
   "source": [
    "def getZCR(arr):\n",
    "        my_array = np.array(arr)\n",
    "        return float(\"{0:.2f}\".format((((my_array[:-1] * my_array[1:]) < 0).sum())/len(arr)))\n",
    "zcr=[]\n",
    "arr2=np.array(df.loc[:,['Acc_X','Acc_Y','Acc_Z']])\n",
    "\n",
    "\n",
    "for x in arr2:\n",
    "    zcr.append(getZCR(x))\n",
    "df['ZCR']=zcr\n",
    "df"
   ]
  },
  {
   "cell_type": "code",
   "execution_count": 91,
   "id": "41d25f30",
   "metadata": {},
   "outputs": [
    {
     "data": {
      "text/html": [
       "<div>\n",
       "<style scoped>\n",
       "    .dataframe tbody tr th:only-of-type {\n",
       "        vertical-align: middle;\n",
       "    }\n",
       "\n",
       "    .dataframe tbody tr th {\n",
       "        vertical-align: top;\n",
       "    }\n",
       "\n",
       "    .dataframe thead th {\n",
       "        text-align: right;\n",
       "    }\n",
       "</style>\n",
       "<table border=\"1\" class=\"dataframe\">\n",
       "  <thead>\n",
       "    <tr style=\"text-align: right;\">\n",
       "      <th></th>\n",
       "      <th>Acc_X</th>\n",
       "      <th>Acc_Y</th>\n",
       "      <th>Acc_Z</th>\n",
       "      <th>Mean</th>\n",
       "      <th>Median</th>\n",
       "      <th>Variance</th>\n",
       "      <th>Standard_Deviation</th>\n",
       "      <th>Q3</th>\n",
       "      <th>Q1</th>\n",
       "      <th>ZCR</th>\n",
       "      <th>MCR</th>\n",
       "    </tr>\n",
       "  </thead>\n",
       "  <tbody>\n",
       "    <tr>\n",
       "      <th>0</th>\n",
       "      <td>-0.000001</td>\n",
       "      <td>-0.000016</td>\n",
       "      <td>0.000002</td>\n",
       "      <td>-0.000005</td>\n",
       "      <td>-0.000001</td>\n",
       "      <td>9.997948e-11</td>\n",
       "      <td>0.000010</td>\n",
       "      <td>6.758973e-07</td>\n",
       "      <td>-0.000009</td>\n",
       "      <td>0.33</td>\n",
       "      <td>0.67</td>\n",
       "    </tr>\n",
       "    <tr>\n",
       "      <th>1</th>\n",
       "      <td>-0.000019</td>\n",
       "      <td>-0.000278</td>\n",
       "      <td>0.000039</td>\n",
       "      <td>-0.000086</td>\n",
       "      <td>-0.000019</td>\n",
       "      <td>2.852189e-08</td>\n",
       "      <td>0.000169</td>\n",
       "      <td>1.004426e-05</td>\n",
       "      <td>-0.000148</td>\n",
       "      <td>0.33</td>\n",
       "      <td>0.67</td>\n",
       "    </tr>\n",
       "    <tr>\n",
       "      <th>2</th>\n",
       "      <td>-0.000155</td>\n",
       "      <td>-0.002312</td>\n",
       "      <td>0.000296</td>\n",
       "      <td>-0.000724</td>\n",
       "      <td>-0.000155</td>\n",
       "      <td>1.941891e-06</td>\n",
       "      <td>0.001394</td>\n",
       "      <td>7.013108e-05</td>\n",
       "      <td>-0.001234</td>\n",
       "      <td>0.33</td>\n",
       "      <td>0.67</td>\n",
       "    </tr>\n",
       "    <tr>\n",
       "      <th>3</th>\n",
       "      <td>-0.000843</td>\n",
       "      <td>-0.012559</td>\n",
       "      <td>0.001450</td>\n",
       "      <td>-0.003984</td>\n",
       "      <td>-0.000843</td>\n",
       "      <td>5.646022e-05</td>\n",
       "      <td>0.007514</td>\n",
       "      <td>3.033474e-04</td>\n",
       "      <td>-0.006701</td>\n",
       "      <td>0.33</td>\n",
       "      <td>0.67</td>\n",
       "    </tr>\n",
       "    <tr>\n",
       "      <th>4</th>\n",
       "      <td>-0.003377</td>\n",
       "      <td>-0.050345</td>\n",
       "      <td>0.005163</td>\n",
       "      <td>-0.016186</td>\n",
       "      <td>-0.003377</td>\n",
       "      <td>8.933406e-04</td>\n",
       "      <td>0.029889</td>\n",
       "      <td>8.930138e-04</td>\n",
       "      <td>-0.026861</td>\n",
       "      <td>0.33</td>\n",
       "      <td>0.67</td>\n",
       "    </tr>\n",
       "    <tr>\n",
       "      <th>...</th>\n",
       "      <td>...</td>\n",
       "      <td>...</td>\n",
       "      <td>...</td>\n",
       "      <td>...</td>\n",
       "      <td>...</td>\n",
       "      <td>...</td>\n",
       "      <td>...</td>\n",
       "      <td>...</td>\n",
       "      <td>...</td>\n",
       "      <td>...</td>\n",
       "      <td>...</td>\n",
       "    </tr>\n",
       "    <tr>\n",
       "      <th>1507</th>\n",
       "      <td>-1.637045</td>\n",
       "      <td>-10.287375</td>\n",
       "      <td>-0.552160</td>\n",
       "      <td>-4.158860</td>\n",
       "      <td>-1.637045</td>\n",
       "      <td>2.846327e+01</td>\n",
       "      <td>5.335098</td>\n",
       "      <td>-1.094602e+00</td>\n",
       "      <td>-5.962210</td>\n",
       "      <td>0.00</td>\n",
       "      <td>0.67</td>\n",
       "    </tr>\n",
       "    <tr>\n",
       "      <th>1508</th>\n",
       "      <td>-1.562152</td>\n",
       "      <td>-10.138353</td>\n",
       "      <td>-0.545346</td>\n",
       "      <td>-4.081951</td>\n",
       "      <td>-1.562152</td>\n",
       "      <td>2.776848e+01</td>\n",
       "      <td>5.269581</td>\n",
       "      <td>-1.053749e+00</td>\n",
       "      <td>-5.850253</td>\n",
       "      <td>0.00</td>\n",
       "      <td>0.67</td>\n",
       "    </tr>\n",
       "    <tr>\n",
       "      <th>1509</th>\n",
       "      <td>-1.521083</td>\n",
       "      <td>-10.003758</td>\n",
       "      <td>-0.490638</td>\n",
       "      <td>-4.005160</td>\n",
       "      <td>-1.521083</td>\n",
       "      <td>2.725284e+01</td>\n",
       "      <td>5.220425</td>\n",
       "      <td>-1.005860e+00</td>\n",
       "      <td>-5.762420</td>\n",
       "      <td>0.00</td>\n",
       "      <td>0.67</td>\n",
       "    </tr>\n",
       "    <tr>\n",
       "      <th>1510</th>\n",
       "      <td>-1.521671</td>\n",
       "      <td>-9.925527</td>\n",
       "      <td>-0.384306</td>\n",
       "      <td>-3.943834</td>\n",
       "      <td>-1.521671</td>\n",
       "      <td>2.715888e+01</td>\n",
       "      <td>5.211418</td>\n",
       "      <td>-9.529882e-01</td>\n",
       "      <td>-5.723599</td>\n",
       "      <td>0.00</td>\n",
       "      <td>0.67</td>\n",
       "    </tr>\n",
       "    <tr>\n",
       "      <th>1511</th>\n",
       "      <td>-1.556938</td>\n",
       "      <td>-9.926723</td>\n",
       "      <td>-0.254985</td>\n",
       "      <td>-3.912882</td>\n",
       "      <td>-1.556938</td>\n",
       "      <td>2.754848e+01</td>\n",
       "      <td>5.248665</td>\n",
       "      <td>-9.059615e-01</td>\n",
       "      <td>-5.741831</td>\n",
       "      <td>0.00</td>\n",
       "      <td>0.67</td>\n",
       "    </tr>\n",
       "  </tbody>\n",
       "</table>\n",
       "<p>1512 rows × 11 columns</p>\n",
       "</div>"
      ],
      "text/plain": [
       "         Acc_X      Acc_Y     Acc_Z      Mean    Median      Variance  \\\n",
       "0    -0.000001  -0.000016  0.000002 -0.000005 -0.000001  9.997948e-11   \n",
       "1    -0.000019  -0.000278  0.000039 -0.000086 -0.000019  2.852189e-08   \n",
       "2    -0.000155  -0.002312  0.000296 -0.000724 -0.000155  1.941891e-06   \n",
       "3    -0.000843  -0.012559  0.001450 -0.003984 -0.000843  5.646022e-05   \n",
       "4    -0.003377  -0.050345  0.005163 -0.016186 -0.003377  8.933406e-04   \n",
       "...        ...        ...       ...       ...       ...           ...   \n",
       "1507 -1.637045 -10.287375 -0.552160 -4.158860 -1.637045  2.846327e+01   \n",
       "1508 -1.562152 -10.138353 -0.545346 -4.081951 -1.562152  2.776848e+01   \n",
       "1509 -1.521083 -10.003758 -0.490638 -4.005160 -1.521083  2.725284e+01   \n",
       "1510 -1.521671  -9.925527 -0.384306 -3.943834 -1.521671  2.715888e+01   \n",
       "1511 -1.556938  -9.926723 -0.254985 -3.912882 -1.556938  2.754848e+01   \n",
       "\n",
       "      Standard_Deviation            Q3        Q1   ZCR   MCR  \n",
       "0               0.000010  6.758973e-07 -0.000009  0.33  0.67  \n",
       "1               0.000169  1.004426e-05 -0.000148  0.33  0.67  \n",
       "2               0.001394  7.013108e-05 -0.001234  0.33  0.67  \n",
       "3               0.007514  3.033474e-04 -0.006701  0.33  0.67  \n",
       "4               0.029889  8.930138e-04 -0.026861  0.33  0.67  \n",
       "...                  ...           ...       ...   ...   ...  \n",
       "1507            5.335098 -1.094602e+00 -5.962210  0.00  0.67  \n",
       "1508            5.269581 -1.053749e+00 -5.850253  0.00  0.67  \n",
       "1509            5.220425 -1.005860e+00 -5.762420  0.00  0.67  \n",
       "1510            5.211418 -9.529882e-01 -5.723599  0.00  0.67  \n",
       "1511            5.248665 -9.059615e-01 -5.741831  0.00  0.67  \n",
       "\n",
       "[1512 rows x 11 columns]"
      ]
     },
     "execution_count": 91,
     "metadata": {},
     "output_type": "execute_result"
    }
   ],
   "source": [
    "def getMCR(arr):\n",
    "    return getZCR(np.array(arr) - np.mean(arr))\n",
    "\n",
    "MCR=[]\n",
    "arr2=np.array(df.loc[:,['Acc_X','Acc_Y','Acc_Z']])\n",
    "\n",
    "for x in arr2:\n",
    "        MCR.append(getMCR(x))\n",
    "\n",
    "df['MCR']=MCR\n",
    "df"
   ]
  },
  {
   "cell_type": "code",
   "execution_count": 92,
   "id": "55e7c004",
   "metadata": {},
   "outputs": [
    {
     "data": {
      "text/html": [
       "<div>\n",
       "<style scoped>\n",
       "    .dataframe tbody tr th:only-of-type {\n",
       "        vertical-align: middle;\n",
       "    }\n",
       "\n",
       "    .dataframe tbody tr th {\n",
       "        vertical-align: top;\n",
       "    }\n",
       "\n",
       "    .dataframe thead th {\n",
       "        text-align: right;\n",
       "    }\n",
       "</style>\n",
       "<table border=\"1\" class=\"dataframe\">\n",
       "  <thead>\n",
       "    <tr style=\"text-align: right;\">\n",
       "      <th></th>\n",
       "      <th>Acc_X</th>\n",
       "      <th>Acc_Y</th>\n",
       "      <th>Acc_Z</th>\n",
       "      <th>Mean</th>\n",
       "      <th>Median</th>\n",
       "      <th>Variance</th>\n",
       "      <th>Standard_Deviation</th>\n",
       "      <th>Q3</th>\n",
       "      <th>Q1</th>\n",
       "      <th>ZCR</th>\n",
       "      <th>MCR</th>\n",
       "      <th>Entropy</th>\n",
       "    </tr>\n",
       "  </thead>\n",
       "  <tbody>\n",
       "    <tr>\n",
       "      <th>0</th>\n",
       "      <td>-0.000001</td>\n",
       "      <td>-0.000016</td>\n",
       "      <td>0.000002</td>\n",
       "      <td>-0.000005</td>\n",
       "      <td>-0.000001</td>\n",
       "      <td>9.997948e-11</td>\n",
       "      <td>0.000010</td>\n",
       "      <td>6.758973e-07</td>\n",
       "      <td>-0.000009</td>\n",
       "      <td>0.33</td>\n",
       "      <td>0.67</td>\n",
       "      <td>1.098612</td>\n",
       "    </tr>\n",
       "    <tr>\n",
       "      <th>1</th>\n",
       "      <td>-0.000019</td>\n",
       "      <td>-0.000278</td>\n",
       "      <td>0.000039</td>\n",
       "      <td>-0.000086</td>\n",
       "      <td>-0.000019</td>\n",
       "      <td>2.852189e-08</td>\n",
       "      <td>0.000169</td>\n",
       "      <td>1.004426e-05</td>\n",
       "      <td>-0.000148</td>\n",
       "      <td>0.33</td>\n",
       "      <td>0.67</td>\n",
       "      <td>1.098612</td>\n",
       "    </tr>\n",
       "    <tr>\n",
       "      <th>2</th>\n",
       "      <td>-0.000155</td>\n",
       "      <td>-0.002312</td>\n",
       "      <td>0.000296</td>\n",
       "      <td>-0.000724</td>\n",
       "      <td>-0.000155</td>\n",
       "      <td>1.941891e-06</td>\n",
       "      <td>0.001394</td>\n",
       "      <td>7.013108e-05</td>\n",
       "      <td>-0.001234</td>\n",
       "      <td>0.33</td>\n",
       "      <td>0.67</td>\n",
       "      <td>1.098612</td>\n",
       "    </tr>\n",
       "    <tr>\n",
       "      <th>3</th>\n",
       "      <td>-0.000843</td>\n",
       "      <td>-0.012559</td>\n",
       "      <td>0.001450</td>\n",
       "      <td>-0.003984</td>\n",
       "      <td>-0.000843</td>\n",
       "      <td>5.646022e-05</td>\n",
       "      <td>0.007514</td>\n",
       "      <td>3.033474e-04</td>\n",
       "      <td>-0.006701</td>\n",
       "      <td>0.33</td>\n",
       "      <td>0.67</td>\n",
       "      <td>1.098612</td>\n",
       "    </tr>\n",
       "    <tr>\n",
       "      <th>4</th>\n",
       "      <td>-0.003377</td>\n",
       "      <td>-0.050345</td>\n",
       "      <td>0.005163</td>\n",
       "      <td>-0.016186</td>\n",
       "      <td>-0.003377</td>\n",
       "      <td>8.933406e-04</td>\n",
       "      <td>0.029889</td>\n",
       "      <td>8.930138e-04</td>\n",
       "      <td>-0.026861</td>\n",
       "      <td>0.33</td>\n",
       "      <td>0.67</td>\n",
       "      <td>1.098612</td>\n",
       "    </tr>\n",
       "    <tr>\n",
       "      <th>...</th>\n",
       "      <td>...</td>\n",
       "      <td>...</td>\n",
       "      <td>...</td>\n",
       "      <td>...</td>\n",
       "      <td>...</td>\n",
       "      <td>...</td>\n",
       "      <td>...</td>\n",
       "      <td>...</td>\n",
       "      <td>...</td>\n",
       "      <td>...</td>\n",
       "      <td>...</td>\n",
       "      <td>...</td>\n",
       "    </tr>\n",
       "    <tr>\n",
       "      <th>1507</th>\n",
       "      <td>-1.637045</td>\n",
       "      <td>-10.287375</td>\n",
       "      <td>-0.552160</td>\n",
       "      <td>-4.158860</td>\n",
       "      <td>-1.637045</td>\n",
       "      <td>2.846327e+01</td>\n",
       "      <td>5.335098</td>\n",
       "      <td>-1.094602e+00</td>\n",
       "      <td>-5.962210</td>\n",
       "      <td>0.00</td>\n",
       "      <td>0.67</td>\n",
       "      <td>1.098612</td>\n",
       "    </tr>\n",
       "    <tr>\n",
       "      <th>1508</th>\n",
       "      <td>-1.562152</td>\n",
       "      <td>-10.138353</td>\n",
       "      <td>-0.545346</td>\n",
       "      <td>-4.081951</td>\n",
       "      <td>-1.562152</td>\n",
       "      <td>2.776848e+01</td>\n",
       "      <td>5.269581</td>\n",
       "      <td>-1.053749e+00</td>\n",
       "      <td>-5.850253</td>\n",
       "      <td>0.00</td>\n",
       "      <td>0.67</td>\n",
       "      <td>1.098612</td>\n",
       "    </tr>\n",
       "    <tr>\n",
       "      <th>1509</th>\n",
       "      <td>-1.521083</td>\n",
       "      <td>-10.003758</td>\n",
       "      <td>-0.490638</td>\n",
       "      <td>-4.005160</td>\n",
       "      <td>-1.521083</td>\n",
       "      <td>2.725284e+01</td>\n",
       "      <td>5.220425</td>\n",
       "      <td>-1.005860e+00</td>\n",
       "      <td>-5.762420</td>\n",
       "      <td>0.00</td>\n",
       "      <td>0.67</td>\n",
       "      <td>1.098612</td>\n",
       "    </tr>\n",
       "    <tr>\n",
       "      <th>1510</th>\n",
       "      <td>-1.521671</td>\n",
       "      <td>-9.925527</td>\n",
       "      <td>-0.384306</td>\n",
       "      <td>-3.943834</td>\n",
       "      <td>-1.521671</td>\n",
       "      <td>2.715888e+01</td>\n",
       "      <td>5.211418</td>\n",
       "      <td>-9.529882e-01</td>\n",
       "      <td>-5.723599</td>\n",
       "      <td>0.00</td>\n",
       "      <td>0.67</td>\n",
       "      <td>1.098612</td>\n",
       "    </tr>\n",
       "    <tr>\n",
       "      <th>1511</th>\n",
       "      <td>-1.556938</td>\n",
       "      <td>-9.926723</td>\n",
       "      <td>-0.254985</td>\n",
       "      <td>-3.912882</td>\n",
       "      <td>-1.556938</td>\n",
       "      <td>2.754848e+01</td>\n",
       "      <td>5.248665</td>\n",
       "      <td>-9.059615e-01</td>\n",
       "      <td>-5.741831</td>\n",
       "      <td>0.00</td>\n",
       "      <td>0.67</td>\n",
       "      <td>1.098612</td>\n",
       "    </tr>\n",
       "  </tbody>\n",
       "</table>\n",
       "<p>1512 rows × 12 columns</p>\n",
       "</div>"
      ],
      "text/plain": [
       "         Acc_X      Acc_Y     Acc_Z      Mean    Median      Variance  \\\n",
       "0    -0.000001  -0.000016  0.000002 -0.000005 -0.000001  9.997948e-11   \n",
       "1    -0.000019  -0.000278  0.000039 -0.000086 -0.000019  2.852189e-08   \n",
       "2    -0.000155  -0.002312  0.000296 -0.000724 -0.000155  1.941891e-06   \n",
       "3    -0.000843  -0.012559  0.001450 -0.003984 -0.000843  5.646022e-05   \n",
       "4    -0.003377  -0.050345  0.005163 -0.016186 -0.003377  8.933406e-04   \n",
       "...        ...        ...       ...       ...       ...           ...   \n",
       "1507 -1.637045 -10.287375 -0.552160 -4.158860 -1.637045  2.846327e+01   \n",
       "1508 -1.562152 -10.138353 -0.545346 -4.081951 -1.562152  2.776848e+01   \n",
       "1509 -1.521083 -10.003758 -0.490638 -4.005160 -1.521083  2.725284e+01   \n",
       "1510 -1.521671  -9.925527 -0.384306 -3.943834 -1.521671  2.715888e+01   \n",
       "1511 -1.556938  -9.926723 -0.254985 -3.912882 -1.556938  2.754848e+01   \n",
       "\n",
       "      Standard_Deviation            Q3        Q1   ZCR   MCR   Entropy  \n",
       "0               0.000010  6.758973e-07 -0.000009  0.33  0.67  1.098612  \n",
       "1               0.000169  1.004426e-05 -0.000148  0.33  0.67  1.098612  \n",
       "2               0.001394  7.013108e-05 -0.001234  0.33  0.67  1.098612  \n",
       "3               0.007514  3.033474e-04 -0.006701  0.33  0.67  1.098612  \n",
       "4               0.029889  8.930138e-04 -0.026861  0.33  0.67  1.098612  \n",
       "...                  ...           ...       ...   ...   ...       ...  \n",
       "1507            5.335098 -1.094602e+00 -5.962210  0.00  0.67  1.098612  \n",
       "1508            5.269581 -1.053749e+00 -5.850253  0.00  0.67  1.098612  \n",
       "1509            5.220425 -1.005860e+00 -5.762420  0.00  0.67  1.098612  \n",
       "1510            5.211418 -9.529882e-01 -5.723599  0.00  0.67  1.098612  \n",
       "1511            5.248665 -9.059615e-01 -5.741831  0.00  0.67  1.098612  \n",
       "\n",
       "[1512 rows x 12 columns]"
      ]
     },
     "execution_count": 92,
     "metadata": {},
     "output_type": "execute_result"
    }
   ],
   "source": [
    "from math import e\n",
    "def entropy4(labels, base=None):\n",
    "    value,counts = np.unique(labels, return_counts=True)\n",
    "    norm_counts = counts / counts.sum()\n",
    "    base = e if base is None else base\n",
    "    return -(norm_counts * np.log(norm_counts)/np.log(base)).sum()\n",
    "\n",
    "y=[]\n",
    "sort=np.sort(df.loc[:,['Acc_X','Acc_Y','Acc_Z']],axis=1)\n",
    "\n",
    "for x in sort:\n",
    "    y.append(entropy4(x))\n",
    "df['Entropy']=y\n",
    "df"
   ]
  },
  {
   "cell_type": "code",
   "execution_count": 93,
   "id": "020ac809",
   "metadata": {},
   "outputs": [
    {
     "data": {
      "text/html": [
       "<div>\n",
       "<style scoped>\n",
       "    .dataframe tbody tr th:only-of-type {\n",
       "        vertical-align: middle;\n",
       "    }\n",
       "\n",
       "    .dataframe tbody tr th {\n",
       "        vertical-align: top;\n",
       "    }\n",
       "\n",
       "    .dataframe thead th {\n",
       "        text-align: right;\n",
       "    }\n",
       "</style>\n",
       "<table border=\"1\" class=\"dataframe\">\n",
       "  <thead>\n",
       "    <tr style=\"text-align: right;\">\n",
       "      <th></th>\n",
       "      <th>Acc_X</th>\n",
       "      <th>Acc_Y</th>\n",
       "      <th>Acc_Z</th>\n",
       "      <th>Mean</th>\n",
       "      <th>Median</th>\n",
       "      <th>Variance</th>\n",
       "      <th>Standard_Deviation</th>\n",
       "      <th>Q3</th>\n",
       "      <th>Q1</th>\n",
       "      <th>ZCR</th>\n",
       "      <th>MCR</th>\n",
       "      <th>Entropy</th>\n",
       "      <th>RMS</th>\n",
       "    </tr>\n",
       "  </thead>\n",
       "  <tbody>\n",
       "    <tr>\n",
       "      <th>0</th>\n",
       "      <td>-0.000001</td>\n",
       "      <td>-0.000016</td>\n",
       "      <td>0.000002</td>\n",
       "      <td>-0.000005</td>\n",
       "      <td>-0.000001</td>\n",
       "      <td>9.997948e-11</td>\n",
       "      <td>0.000010</td>\n",
       "      <td>6.758973e-07</td>\n",
       "      <td>-0.000009</td>\n",
       "      <td>0.33</td>\n",
       "      <td>0.67</td>\n",
       "      <td>1.098612</td>\n",
       "      <td>0.000010</td>\n",
       "    </tr>\n",
       "    <tr>\n",
       "      <th>1</th>\n",
       "      <td>-0.000019</td>\n",
       "      <td>-0.000278</td>\n",
       "      <td>0.000039</td>\n",
       "      <td>-0.000086</td>\n",
       "      <td>-0.000019</td>\n",
       "      <td>2.852189e-08</td>\n",
       "      <td>0.000169</td>\n",
       "      <td>1.004426e-05</td>\n",
       "      <td>-0.000148</td>\n",
       "      <td>0.33</td>\n",
       "      <td>0.67</td>\n",
       "      <td>1.098612</td>\n",
       "      <td>0.000163</td>\n",
       "    </tr>\n",
       "    <tr>\n",
       "      <th>2</th>\n",
       "      <td>-0.000155</td>\n",
       "      <td>-0.002312</td>\n",
       "      <td>0.000296</td>\n",
       "      <td>-0.000724</td>\n",
       "      <td>-0.000155</td>\n",
       "      <td>1.941891e-06</td>\n",
       "      <td>0.001394</td>\n",
       "      <td>7.013108e-05</td>\n",
       "      <td>-0.001234</td>\n",
       "      <td>0.33</td>\n",
       "      <td>0.67</td>\n",
       "      <td>1.098612</td>\n",
       "      <td>0.001349</td>\n",
       "    </tr>\n",
       "    <tr>\n",
       "      <th>3</th>\n",
       "      <td>-0.000843</td>\n",
       "      <td>-0.012559</td>\n",
       "      <td>0.001450</td>\n",
       "      <td>-0.003984</td>\n",
       "      <td>-0.000843</td>\n",
       "      <td>5.646022e-05</td>\n",
       "      <td>0.007514</td>\n",
       "      <td>3.033474e-04</td>\n",
       "      <td>-0.006701</td>\n",
       "      <td>0.33</td>\n",
       "      <td>0.67</td>\n",
       "      <td>1.098612</td>\n",
       "      <td>0.007315</td>\n",
       "    </tr>\n",
       "    <tr>\n",
       "      <th>4</th>\n",
       "      <td>-0.003377</td>\n",
       "      <td>-0.050345</td>\n",
       "      <td>0.005163</td>\n",
       "      <td>-0.016186</td>\n",
       "      <td>-0.003377</td>\n",
       "      <td>8.933406e-04</td>\n",
       "      <td>0.029889</td>\n",
       "      <td>8.930138e-04</td>\n",
       "      <td>-0.026861</td>\n",
       "      <td>0.33</td>\n",
       "      <td>0.67</td>\n",
       "      <td>1.098612</td>\n",
       "      <td>0.029284</td>\n",
       "    </tr>\n",
       "    <tr>\n",
       "      <th>...</th>\n",
       "      <td>...</td>\n",
       "      <td>...</td>\n",
       "      <td>...</td>\n",
       "      <td>...</td>\n",
       "      <td>...</td>\n",
       "      <td>...</td>\n",
       "      <td>...</td>\n",
       "      <td>...</td>\n",
       "      <td>...</td>\n",
       "      <td>...</td>\n",
       "      <td>...</td>\n",
       "      <td>...</td>\n",
       "      <td>...</td>\n",
       "    </tr>\n",
       "    <tr>\n",
       "      <th>1507</th>\n",
       "      <td>-1.637045</td>\n",
       "      <td>-10.287375</td>\n",
       "      <td>-0.552160</td>\n",
       "      <td>-4.158860</td>\n",
       "      <td>-1.637045</td>\n",
       "      <td>2.846327e+01</td>\n",
       "      <td>5.335098</td>\n",
       "      <td>-1.094602e+00</td>\n",
       "      <td>-5.962210</td>\n",
       "      <td>0.00</td>\n",
       "      <td>0.67</td>\n",
       "      <td>1.098612</td>\n",
       "      <td>6.022593</td>\n",
       "    </tr>\n",
       "    <tr>\n",
       "      <th>1508</th>\n",
       "      <td>-1.562152</td>\n",
       "      <td>-10.138353</td>\n",
       "      <td>-0.545346</td>\n",
       "      <td>-4.081951</td>\n",
       "      <td>-1.562152</td>\n",
       "      <td>2.776848e+01</td>\n",
       "      <td>5.269581</td>\n",
       "      <td>-1.053749e+00</td>\n",
       "      <td>-5.850253</td>\n",
       "      <td>0.00</td>\n",
       "      <td>0.67</td>\n",
       "      <td>1.098612</td>\n",
       "      <td>5.930821</td>\n",
       "    </tr>\n",
       "    <tr>\n",
       "      <th>1509</th>\n",
       "      <td>-1.521083</td>\n",
       "      <td>-10.003758</td>\n",
       "      <td>-0.490638</td>\n",
       "      <td>-4.005160</td>\n",
       "      <td>-1.521083</td>\n",
       "      <td>2.725284e+01</td>\n",
       "      <td>5.220425</td>\n",
       "      <td>-1.005860e+00</td>\n",
       "      <td>-5.762420</td>\n",
       "      <td>0.00</td>\n",
       "      <td>0.67</td>\n",
       "      <td>1.098612</td>\n",
       "      <td>5.848920</td>\n",
       "    </tr>\n",
       "    <tr>\n",
       "      <th>1510</th>\n",
       "      <td>-1.521671</td>\n",
       "      <td>-9.925527</td>\n",
       "      <td>-0.384306</td>\n",
       "      <td>-3.943834</td>\n",
       "      <td>-1.521671</td>\n",
       "      <td>2.715888e+01</td>\n",
       "      <td>5.211418</td>\n",
       "      <td>-9.529882e-01</td>\n",
       "      <td>-5.723599</td>\n",
       "      <td>0.00</td>\n",
       "      <td>0.67</td>\n",
       "      <td>1.098612</td>\n",
       "      <td>5.801702</td>\n",
       "    </tr>\n",
       "    <tr>\n",
       "      <th>1511</th>\n",
       "      <td>-1.556938</td>\n",
       "      <td>-9.926723</td>\n",
       "      <td>-0.254985</td>\n",
       "      <td>-3.912882</td>\n",
       "      <td>-1.556938</td>\n",
       "      <td>2.754848e+01</td>\n",
       "      <td>5.248665</td>\n",
       "      <td>-9.059615e-01</td>\n",
       "      <td>-5.741831</td>\n",
       "      <td>0.00</td>\n",
       "      <td>0.67</td>\n",
       "      <td>1.098612</td>\n",
       "      <td>5.803129</td>\n",
       "    </tr>\n",
       "  </tbody>\n",
       "</table>\n",
       "<p>1512 rows × 13 columns</p>\n",
       "</div>"
      ],
      "text/plain": [
       "         Acc_X      Acc_Y     Acc_Z      Mean    Median      Variance  \\\n",
       "0    -0.000001  -0.000016  0.000002 -0.000005 -0.000001  9.997948e-11   \n",
       "1    -0.000019  -0.000278  0.000039 -0.000086 -0.000019  2.852189e-08   \n",
       "2    -0.000155  -0.002312  0.000296 -0.000724 -0.000155  1.941891e-06   \n",
       "3    -0.000843  -0.012559  0.001450 -0.003984 -0.000843  5.646022e-05   \n",
       "4    -0.003377  -0.050345  0.005163 -0.016186 -0.003377  8.933406e-04   \n",
       "...        ...        ...       ...       ...       ...           ...   \n",
       "1507 -1.637045 -10.287375 -0.552160 -4.158860 -1.637045  2.846327e+01   \n",
       "1508 -1.562152 -10.138353 -0.545346 -4.081951 -1.562152  2.776848e+01   \n",
       "1509 -1.521083 -10.003758 -0.490638 -4.005160 -1.521083  2.725284e+01   \n",
       "1510 -1.521671  -9.925527 -0.384306 -3.943834 -1.521671  2.715888e+01   \n",
       "1511 -1.556938  -9.926723 -0.254985 -3.912882 -1.556938  2.754848e+01   \n",
       "\n",
       "      Standard_Deviation            Q3        Q1   ZCR   MCR   Entropy  \\\n",
       "0               0.000010  6.758973e-07 -0.000009  0.33  0.67  1.098612   \n",
       "1               0.000169  1.004426e-05 -0.000148  0.33  0.67  1.098612   \n",
       "2               0.001394  7.013108e-05 -0.001234  0.33  0.67  1.098612   \n",
       "3               0.007514  3.033474e-04 -0.006701  0.33  0.67  1.098612   \n",
       "4               0.029889  8.930138e-04 -0.026861  0.33  0.67  1.098612   \n",
       "...                  ...           ...       ...   ...   ...       ...   \n",
       "1507            5.335098 -1.094602e+00 -5.962210  0.00  0.67  1.098612   \n",
       "1508            5.269581 -1.053749e+00 -5.850253  0.00  0.67  1.098612   \n",
       "1509            5.220425 -1.005860e+00 -5.762420  0.00  0.67  1.098612   \n",
       "1510            5.211418 -9.529882e-01 -5.723599  0.00  0.67  1.098612   \n",
       "1511            5.248665 -9.059615e-01 -5.741831  0.00  0.67  1.098612   \n",
       "\n",
       "           RMS  \n",
       "0     0.000010  \n",
       "1     0.000163  \n",
       "2     0.001349  \n",
       "3     0.007315  \n",
       "4     0.029284  \n",
       "...        ...  \n",
       "1507  6.022593  \n",
       "1508  5.930821  \n",
       "1509  5.848920  \n",
       "1510  5.801702  \n",
       "1511  5.803129  \n",
       "\n",
       "[1512 rows x 13 columns]"
      ]
     },
     "execution_count": 93,
     "metadata": {},
     "output_type": "execute_result"
    }
   ],
   "source": [
    "for index, row in df.iterrows():\n",
    "     rms=np.sqrt(((df['Acc_X'] ** 2) + (df['Acc_Y'] ** 2) +(df['Acc_Z'] ** 2))/3)\n",
    "df['RMS']=rms\n",
    "df"
   ]
  },
  {
   "cell_type": "code",
   "execution_count": 94,
   "id": "1355e587",
   "metadata": {},
   "outputs": [
    {
     "data": {
      "text/html": [
       "<div>\n",
       "<style scoped>\n",
       "    .dataframe tbody tr th:only-of-type {\n",
       "        vertical-align: middle;\n",
       "    }\n",
       "\n",
       "    .dataframe tbody tr th {\n",
       "        vertical-align: top;\n",
       "    }\n",
       "\n",
       "    .dataframe thead th {\n",
       "        text-align: right;\n",
       "    }\n",
       "</style>\n",
       "<table border=\"1\" class=\"dataframe\">\n",
       "  <thead>\n",
       "    <tr style=\"text-align: right;\">\n",
       "      <th></th>\n",
       "      <th>Acc_X</th>\n",
       "      <th>Acc_Y</th>\n",
       "      <th>Acc_Z</th>\n",
       "      <th>Mean</th>\n",
       "      <th>Median</th>\n",
       "      <th>Variance</th>\n",
       "      <th>Standard_Deviation</th>\n",
       "      <th>Q3</th>\n",
       "      <th>Q1</th>\n",
       "      <th>ZCR</th>\n",
       "      <th>MCR</th>\n",
       "      <th>Entropy</th>\n",
       "      <th>RMS</th>\n",
       "    </tr>\n",
       "  </thead>\n",
       "  <tbody>\n",
       "    <tr>\n",
       "      <th>0</th>\n",
       "      <td>-0.000001</td>\n",
       "      <td>-0.000016</td>\n",
       "      <td>0.000002</td>\n",
       "      <td>-0.000005</td>\n",
       "      <td>-0.000001</td>\n",
       "      <td>9.997948e-11</td>\n",
       "      <td>0.000010</td>\n",
       "      <td>6.758973e-07</td>\n",
       "      <td>-0.000009</td>\n",
       "      <td>0.33</td>\n",
       "      <td>0.67</td>\n",
       "      <td>1.098612</td>\n",
       "      <td>0.000010</td>\n",
       "    </tr>\n",
       "    <tr>\n",
       "      <th>1</th>\n",
       "      <td>-0.000019</td>\n",
       "      <td>-0.000278</td>\n",
       "      <td>0.000039</td>\n",
       "      <td>-0.000086</td>\n",
       "      <td>-0.000019</td>\n",
       "      <td>2.852189e-08</td>\n",
       "      <td>0.000169</td>\n",
       "      <td>1.004426e-05</td>\n",
       "      <td>-0.000148</td>\n",
       "      <td>0.33</td>\n",
       "      <td>0.67</td>\n",
       "      <td>1.098612</td>\n",
       "      <td>0.000163</td>\n",
       "    </tr>\n",
       "    <tr>\n",
       "      <th>2</th>\n",
       "      <td>-0.000155</td>\n",
       "      <td>-0.002312</td>\n",
       "      <td>0.000296</td>\n",
       "      <td>-0.000724</td>\n",
       "      <td>-0.000155</td>\n",
       "      <td>1.941891e-06</td>\n",
       "      <td>0.001394</td>\n",
       "      <td>7.013108e-05</td>\n",
       "      <td>-0.001234</td>\n",
       "      <td>0.33</td>\n",
       "      <td>0.67</td>\n",
       "      <td>1.098612</td>\n",
       "      <td>0.001349</td>\n",
       "    </tr>\n",
       "    <tr>\n",
       "      <th>3</th>\n",
       "      <td>-0.000843</td>\n",
       "      <td>-0.012559</td>\n",
       "      <td>0.001450</td>\n",
       "      <td>-0.003984</td>\n",
       "      <td>-0.000843</td>\n",
       "      <td>5.646022e-05</td>\n",
       "      <td>0.007514</td>\n",
       "      <td>3.033474e-04</td>\n",
       "      <td>-0.006701</td>\n",
       "      <td>0.33</td>\n",
       "      <td>0.67</td>\n",
       "      <td>1.098612</td>\n",
       "      <td>0.007315</td>\n",
       "    </tr>\n",
       "    <tr>\n",
       "      <th>4</th>\n",
       "      <td>-0.003377</td>\n",
       "      <td>-0.050345</td>\n",
       "      <td>0.005163</td>\n",
       "      <td>-0.016186</td>\n",
       "      <td>-0.003377</td>\n",
       "      <td>8.933406e-04</td>\n",
       "      <td>0.029889</td>\n",
       "      <td>8.930138e-04</td>\n",
       "      <td>-0.026861</td>\n",
       "      <td>0.33</td>\n",
       "      <td>0.67</td>\n",
       "      <td>1.098612</td>\n",
       "      <td>0.029284</td>\n",
       "    </tr>\n",
       "    <tr>\n",
       "      <th>...</th>\n",
       "      <td>...</td>\n",
       "      <td>...</td>\n",
       "      <td>...</td>\n",
       "      <td>...</td>\n",
       "      <td>...</td>\n",
       "      <td>...</td>\n",
       "      <td>...</td>\n",
       "      <td>...</td>\n",
       "      <td>...</td>\n",
       "      <td>...</td>\n",
       "      <td>...</td>\n",
       "      <td>...</td>\n",
       "      <td>...</td>\n",
       "    </tr>\n",
       "    <tr>\n",
       "      <th>1507</th>\n",
       "      <td>-1.637045</td>\n",
       "      <td>-10.287375</td>\n",
       "      <td>-0.552160</td>\n",
       "      <td>-4.158860</td>\n",
       "      <td>-1.637045</td>\n",
       "      <td>2.846327e+01</td>\n",
       "      <td>5.335098</td>\n",
       "      <td>-1.094602e+00</td>\n",
       "      <td>-5.962210</td>\n",
       "      <td>0.00</td>\n",
       "      <td>0.67</td>\n",
       "      <td>1.098612</td>\n",
       "      <td>6.022593</td>\n",
       "    </tr>\n",
       "    <tr>\n",
       "      <th>1508</th>\n",
       "      <td>-1.562152</td>\n",
       "      <td>-10.138353</td>\n",
       "      <td>-0.545346</td>\n",
       "      <td>-4.081951</td>\n",
       "      <td>-1.562152</td>\n",
       "      <td>2.776848e+01</td>\n",
       "      <td>5.269581</td>\n",
       "      <td>-1.053749e+00</td>\n",
       "      <td>-5.850253</td>\n",
       "      <td>0.00</td>\n",
       "      <td>0.67</td>\n",
       "      <td>1.098612</td>\n",
       "      <td>5.930821</td>\n",
       "    </tr>\n",
       "    <tr>\n",
       "      <th>1509</th>\n",
       "      <td>-1.521083</td>\n",
       "      <td>-10.003758</td>\n",
       "      <td>-0.490638</td>\n",
       "      <td>-4.005160</td>\n",
       "      <td>-1.521083</td>\n",
       "      <td>2.725284e+01</td>\n",
       "      <td>5.220425</td>\n",
       "      <td>-1.005860e+00</td>\n",
       "      <td>-5.762420</td>\n",
       "      <td>0.00</td>\n",
       "      <td>0.67</td>\n",
       "      <td>1.098612</td>\n",
       "      <td>5.848920</td>\n",
       "    </tr>\n",
       "    <tr>\n",
       "      <th>1510</th>\n",
       "      <td>-1.521671</td>\n",
       "      <td>-9.925527</td>\n",
       "      <td>-0.384306</td>\n",
       "      <td>-3.943834</td>\n",
       "      <td>-1.521671</td>\n",
       "      <td>2.715888e+01</td>\n",
       "      <td>5.211418</td>\n",
       "      <td>-9.529882e-01</td>\n",
       "      <td>-5.723599</td>\n",
       "      <td>0.00</td>\n",
       "      <td>0.67</td>\n",
       "      <td>1.098612</td>\n",
       "      <td>5.801702</td>\n",
       "    </tr>\n",
       "    <tr>\n",
       "      <th>1511</th>\n",
       "      <td>-1.556938</td>\n",
       "      <td>-9.926723</td>\n",
       "      <td>-0.254985</td>\n",
       "      <td>-3.912882</td>\n",
       "      <td>-1.556938</td>\n",
       "      <td>2.754848e+01</td>\n",
       "      <td>5.248665</td>\n",
       "      <td>-9.059615e-01</td>\n",
       "      <td>-5.741831</td>\n",
       "      <td>0.00</td>\n",
       "      <td>0.67</td>\n",
       "      <td>1.098612</td>\n",
       "      <td>5.803129</td>\n",
       "    </tr>\n",
       "  </tbody>\n",
       "</table>\n",
       "<p>1512 rows × 13 columns</p>\n",
       "</div>"
      ],
      "text/plain": [
       "         Acc_X      Acc_Y     Acc_Z      Mean    Median      Variance  \\\n",
       "0    -0.000001  -0.000016  0.000002 -0.000005 -0.000001  9.997948e-11   \n",
       "1    -0.000019  -0.000278  0.000039 -0.000086 -0.000019  2.852189e-08   \n",
       "2    -0.000155  -0.002312  0.000296 -0.000724 -0.000155  1.941891e-06   \n",
       "3    -0.000843  -0.012559  0.001450 -0.003984 -0.000843  5.646022e-05   \n",
       "4    -0.003377  -0.050345  0.005163 -0.016186 -0.003377  8.933406e-04   \n",
       "...        ...        ...       ...       ...       ...           ...   \n",
       "1507 -1.637045 -10.287375 -0.552160 -4.158860 -1.637045  2.846327e+01   \n",
       "1508 -1.562152 -10.138353 -0.545346 -4.081951 -1.562152  2.776848e+01   \n",
       "1509 -1.521083 -10.003758 -0.490638 -4.005160 -1.521083  2.725284e+01   \n",
       "1510 -1.521671  -9.925527 -0.384306 -3.943834 -1.521671  2.715888e+01   \n",
       "1511 -1.556938  -9.926723 -0.254985 -3.912882 -1.556938  2.754848e+01   \n",
       "\n",
       "      Standard_Deviation            Q3        Q1   ZCR   MCR   Entropy  \\\n",
       "0               0.000010  6.758973e-07 -0.000009  0.33  0.67  1.098612   \n",
       "1               0.000169  1.004426e-05 -0.000148  0.33  0.67  1.098612   \n",
       "2               0.001394  7.013108e-05 -0.001234  0.33  0.67  1.098612   \n",
       "3               0.007514  3.033474e-04 -0.006701  0.33  0.67  1.098612   \n",
       "4               0.029889  8.930138e-04 -0.026861  0.33  0.67  1.098612   \n",
       "...                  ...           ...       ...   ...   ...       ...   \n",
       "1507            5.335098 -1.094602e+00 -5.962210  0.00  0.67  1.098612   \n",
       "1508            5.269581 -1.053749e+00 -5.850253  0.00  0.67  1.098612   \n",
       "1509            5.220425 -1.005860e+00 -5.762420  0.00  0.67  1.098612   \n",
       "1510            5.211418 -9.529882e-01 -5.723599  0.00  0.67  1.098612   \n",
       "1511            5.248665 -9.059615e-01 -5.741831  0.00  0.67  1.098612   \n",
       "\n",
       "           RMS  \n",
       "0     0.000010  \n",
       "1     0.000163  \n",
       "2     0.001349  \n",
       "3     0.007315  \n",
       "4     0.029284  \n",
       "...        ...  \n",
       "1507  6.022593  \n",
       "1508  5.930821  \n",
       "1509  5.848920  \n",
       "1510  5.801702  \n",
       "1511  5.803129  \n",
       "\n",
       "[1512 rows x 13 columns]"
      ]
     },
     "execution_count": 94,
     "metadata": {},
     "output_type": "execute_result"
    }
   ],
   "source": [
    "X=df\n",
    "df"
   ]
  },
  {
   "cell_type": "code",
   "execution_count": 95,
   "id": "11dda5d8",
   "metadata": {},
   "outputs": [
    {
     "name": "stdout",
     "output_type": "stream",
     "text": [
      "SEGMENTS SHAPE:  (1502, 13, 10)\n"
     ]
    }
   ],
   "source": [
    "N_TIME_STEPS = 10\n",
    "N_FEATURES = 13\n",
    "step = 1\n",
    "segments = []\n",
    "labels = []\n",
    "\n",
    "#segemting data\n",
    "for i in range(0, len(df) - N_TIME_STEPS, step):\n",
    "    accxs = df['Acc_X'].values[i: i + N_TIME_STEPS]\n",
    "    accys = df['Acc_Y'].values[i: i + N_TIME_STEPS]\n",
    "    acczs = df['Acc_Z'].values[i: i + N_TIME_STEPS]\n",
    "    mean = df['Mean'].values[i: i + N_TIME_STEPS]\n",
    "    median = df['Median'].values[i: i + N_TIME_STEPS]\n",
    "    variance = df['Variance'].values[i: i + N_TIME_STEPS]\n",
    "    SD = df['Standard_Deviation'].values[i: i + N_TIME_STEPS]\n",
    "    rms = df['RMS'].values[i: i + N_TIME_STEPS]\n",
    "    q3 = df['Q3'].values[i: i + N_TIME_STEPS]\n",
    "    q1 = df['Q1'].values[i: i + N_TIME_STEPS]\n",
    "    Zcr = df['ZCR'].values[i: i + N_TIME_STEPS]\n",
    "    mcr = df['MCR'].values[i: i + N_TIME_STEPS]\n",
    "    entrophy = df['Entropy'].values[i: i + N_TIME_STEPS]\n",
    "    \n",
    "#     label = stats.mode(df['Class'][i: i + N_TIME_STEPS])[0][0]\n",
    "    segments.append([accxs, accys, acczs,mean,median,variance,SD,rms,q3,q1,Zcr,mcr,entrophy]) \n",
    "#     labels.append(label)\n",
    "    \n",
    "\n",
    "print(\"SEGMENTS SHAPE: \",np.array(segments).shape)\n",
    "# print(\"LABELS SHAPE: \",np.array(labels).shape)"
   ]
  },
  {
   "cell_type": "code",
   "execution_count": 96,
   "id": "4df7277c",
   "metadata": {},
   "outputs": [
    {
     "name": "stdout",
     "output_type": "stream",
     "text": [
      "RESHAPE SHAPE:  (1502, 10, 13)\n"
     ]
    }
   ],
   "source": [
    "reshaped_segments = np.asarray(segments, dtype= np.float32).reshape(-1, N_TIME_STEPS, N_FEATURES)\n",
    "print(\"RESHAPE SHAPE: \",reshaped_segments.shape)"
   ]
  },
  {
   "cell_type": "code",
   "execution_count": 97,
   "id": "20d7b893",
   "metadata": {},
   "outputs": [
    {
     "name": "stdout",
     "output_type": "stream",
     "text": [
      "X_train shape: (1201, 10, 13)\n",
      "X_test shape: (301, 10, 13)\n"
     ]
    }
   ],
   "source": [
    "X_train, X_test = train_test_split(reshaped_segments, test_size=0.20) # 0.25 x 0.8 = 0.2\n",
    "print(\"X_train shape: {}\".format(X_train.shape))\n",
    "print(\"X_test shape: {}\".format(X_test.shape))\n",
    "# print(\"y_train shape: {}\".format(y_train.shape))\n",
    "# print(\"y_test shape: {}\".format(y_test.shape))\n",
    "# print(\"X_val shape: {}\".format(X_val.shape))\n",
    "# print(\"y val shape: {}\".format(y_val.shape))"
   ]
  },
  {
   "cell_type": "code",
   "execution_count": 98,
   "id": "6a381c09",
   "metadata": {},
   "outputs": [],
   "source": [
    "# X1=reshaped_segments.shape\n",
    "# # X1 = np.expand_dims(X1, 1)\n",
    "# X1"
   ]
  },
  {
   "cell_type": "code",
   "execution_count": 99,
   "id": "4d5cb5a3",
   "metadata": {},
   "outputs": [
    {
     "data": {
      "text/plain": [
       "<keras.engine.sequential.Sequential at 0x1fc86f4e430>"
      ]
     },
     "execution_count": 99,
     "metadata": {},
     "output_type": "execute_result"
    }
   ],
   "source": [
    "from keras.models import Sequential\n",
    "from keras.layers import Dense\n",
    "from keras.layers import LSTM\n",
    "from numpy import array\n",
    "from keras.models import load_model\n",
    "\n",
    "loaded_model=tf.keras.models.load_model(\"modelall9.h5\")\n",
    "loaded_model"
   ]
  },
  {
   "cell_type": "code",
   "execution_count": 102,
   "id": "a5a1b223",
   "metadata": {},
   "outputs": [
    {
     "name": "stdout",
     "output_type": "stream",
     "text": [
      "38/38 [==============================] - 7s 173ms/step\n"
     ]
    }
   ],
   "source": [
    "predict_x=(loaded_model.predict(X_train) > 0.5).astype(\"int32\")\n",
    "classes_x=np.argmax(predict_x,axis=1)\n"
   ]
  },
  {
   "cell_type": "code",
   "execution_count": 104,
   "id": "c7745d15",
   "metadata": {},
   "outputs": [
    {
     "data": {
      "text/plain": [
       "array([30, 30, 30, ..., 30, 30, 30], dtype=int64)"
      ]
     },
     "execution_count": 104,
     "metadata": {},
     "output_type": "execute_result"
    }
   ],
   "source": [
    "classes_x"
   ]
  },
  {
   "cell_type": "code",
   "execution_count": null,
   "id": "c491d455",
   "metadata": {},
   "outputs": [],
   "source": []
  }
 ],
 "metadata": {
  "kernelspec": {
   "display_name": "Python 3 (ipykernel)",
   "language": "python",
   "name": "python3"
  },
  "language_info": {
   "codemirror_mode": {
    "name": "ipython",
    "version": 3
   },
   "file_extension": ".py",
   "mimetype": "text/x-python",
   "name": "python",
   "nbconvert_exporter": "python",
   "pygments_lexer": "ipython3",
   "version": "3.9.13"
  }
 },
 "nbformat": 4,
 "nbformat_minor": 5
}
